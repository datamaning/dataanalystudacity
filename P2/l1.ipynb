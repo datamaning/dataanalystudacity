{
 "cells": [
  {
   "cell_type": "markdown",
   "metadata": {},
   "source": [
    "## Load Data from CSVs"
   ]
  },
  {
   "cell_type": "code",
   "execution_count": 1,
   "metadata": {
    "collapsed": false
   },
   "outputs": [],
   "source": [
    "import unicodecsv\n",
    "\n",
    "## Longer version of code (replaced with shorter, equivalent version below)\n",
    "\n",
    "# enrollments = []\n",
    "# f = open('enrollments.csv', 'rb')\n",
    "# reader = unicodecsv.DictReader(f)\n",
    "# for row in reader:\n",
    "#     enrollments.append(row)\n",
    "# f.close()\n",
    "\n",
    "with open('datasets/enrollments.csv', 'rb') as f:\n",
    "    reader = unicodecsv.DictReader(f)\n",
    "    enrollments = list(reader)"
   ]
  },
  {
   "cell_type": "code",
   "execution_count": 2,
   "metadata": {
    "collapsed": false
   },
   "outputs": [],
   "source": [
    "#####################################\n",
    "#                 1                 #\n",
    "#####################################\n",
    "\n",
    "## Read in the data from daily_engagement.csv and project_submissions.csv \n",
    "## and store the results in the below variables.\n",
    "## Then look at the first row of each table.\n",
    "\n",
    "with open('datasets/daily_engagement.csv', 'rb') as f:\n",
    "    reader = unicodecsv.DictReader(f)\n",
    "    daily_engagement = list(reader)\n",
    "\n",
    "with open('datasets/project_submissions.csv', 'rb') as f:\n",
    "    reader = unicodecsv.DictReader(f)\n",
    "    project_submissions = list(reader)\n"
   ]
  },
  {
   "cell_type": "markdown",
   "metadata": {},
   "source": [
    "## Fixing Data Types"
   ]
  },
  {
   "cell_type": "code",
   "execution_count": 3,
   "metadata": {
    "collapsed": false
   },
   "outputs": [
    {
     "data": {
      "text/plain": [
       "{u'account_key': u'448',\n",
       " u'cancel_date': datetime.datetime(2015, 1, 14, 0, 0),\n",
       " u'days_to_cancel': 65,\n",
       " u'is_canceled': True,\n",
       " u'is_udacity': True,\n",
       " u'join_date': datetime.datetime(2014, 11, 10, 0, 0),\n",
       " u'status': u'canceled'}"
      ]
     },
     "execution_count": 3,
     "metadata": {},
     "output_type": "execute_result"
    }
   ],
   "source": [
    "from datetime import datetime as dt\n",
    "\n",
    "# Takes a date as a string, and returns a Python datetime object. \n",
    "# If there is no date given, returns None\n",
    "def parse_date(date):\n",
    "    if date == '':\n",
    "        return None\n",
    "    else:\n",
    "        return dt.strptime(date, '%Y-%m-%d')\n",
    "    \n",
    "# Takes a string which is either an empty string or represents an integer,\n",
    "# and returns an int or None.\n",
    "def parse_maybe_int(i):\n",
    "    if i == '':\n",
    "        return None\n",
    "    else:\n",
    "        return int(i)\n",
    "\n",
    "# Clean up the data types in the enrollments table\n",
    "for enrollment in enrollments:\n",
    "    enrollment['cancel_date'] = parse_date(enrollment['cancel_date'])\n",
    "    enrollment['days_to_cancel'] = parse_maybe_int(enrollment['days_to_cancel'])\n",
    "    enrollment['is_canceled'] = enrollment['is_canceled'] == 'True'\n",
    "    enrollment['is_udacity'] = enrollment['is_udacity'] == 'True'\n",
    "    enrollment['join_date'] = parse_date(enrollment['join_date'])\n",
    "    \n",
    "enrollments[0]"
   ]
  },
  {
   "cell_type": "code",
   "execution_count": 4,
   "metadata": {
    "collapsed": false
   },
   "outputs": [
    {
     "data": {
      "text/plain": [
       "{u'acct': u'0',\n",
       " u'lessons_completed': 0,\n",
       " u'num_courses_visited': 1,\n",
       " u'projects_completed': 0,\n",
       " u'total_minutes_visited': 11.6793745,\n",
       " u'utc_date': datetime.datetime(2015, 1, 9, 0, 0)}"
      ]
     },
     "execution_count": 4,
     "metadata": {},
     "output_type": "execute_result"
    }
   ],
   "source": [
    "# Clean up the data types in the engagement table\n",
    "for engagement_record in daily_engagement:\n",
    "    engagement_record['lessons_completed'] = int(float(engagement_record['lessons_completed']))\n",
    "    engagement_record['num_courses_visited'] = int(float(engagement_record['num_courses_visited']))\n",
    "    engagement_record['projects_completed'] = int(float(engagement_record['projects_completed']))\n",
    "    engagement_record['total_minutes_visited'] = float(engagement_record['total_minutes_visited'])\n",
    "    engagement_record['utc_date'] = parse_date(engagement_record['utc_date'])\n",
    "    \n",
    "daily_engagement[0]"
   ]
  },
  {
   "cell_type": "code",
   "execution_count": 5,
   "metadata": {
    "collapsed": false
   },
   "outputs": [
    {
     "data": {
      "text/plain": [
       "{u'account_key': u'256',\n",
       " u'assigned_rating': u'UNGRADED',\n",
       " u'completion_date': datetime.datetime(2015, 1, 16, 0, 0),\n",
       " u'creation_date': datetime.datetime(2015, 1, 14, 0, 0),\n",
       " u'lesson_key': u'3176718735',\n",
       " u'processing_state': u'EVALUATED'}"
      ]
     },
     "execution_count": 5,
     "metadata": {},
     "output_type": "execute_result"
    }
   ],
   "source": [
    "# Clean up the data types in the submissions table\n",
    "for submission in project_submissions:\n",
    "    submission['completion_date'] = parse_date(submission['completion_date'])\n",
    "    submission['creation_date'] = parse_date(submission['creation_date'])\n",
    "\n",
    "project_submissions[0]"
   ]
  },
  {
   "cell_type": "markdown",
   "metadata": {},
   "source": [
    "## Investigating the Data"
   ]
  },
  {
   "cell_type": "code",
   "execution_count": 6,
   "metadata": {
    "collapsed": false
   },
   "outputs": [],
   "source": [
    "#####################################\n",
    "#                 2                 #\n",
    "#####################################\n",
    "\n",
    "## Find the total number of rows and the number of unique students (account keys)\n",
    "## in each table.\n",
    "\n",
    "# def read_csv(filename):\n",
    "#     with open(filename, 'rb') as f:\n",
    "#         reader = unicodecsv.DictReader(f)\n",
    "#         return list(reader)\n",
    "# \n",
    "# enrollments = read_csv('datasets/enrollments.csv')\n",
    "# daily_engagement = read_csv('datasets/daily_engagement.csv')\n",
    "# project_submissions = read_csv('datasets/project_submissions.csv')"
   ]
  },
  {
   "cell_type": "code",
   "execution_count": 7,
   "metadata": {
    "collapsed": false
   },
   "outputs": [
    {
     "data": {
      "text/plain": [
       "[1302, 1237, 743]"
      ]
     },
     "execution_count": 7,
     "metadata": {},
     "output_type": "execute_result"
    }
   ],
   "source": [
    "e_set = set([x['account_key'] for x in enrollments])\n",
    "d_set = set([x['acct'] for x in daily_engagement])\n",
    "p_set = set([x['account_key'] for x in project_submissions])\n",
    "\n",
    "[len(e_set), len(d_set), len(p_set)]"
   ]
  },
  {
   "cell_type": "markdown",
   "metadata": {},
   "source": [
    "## Problems in the Data"
   ]
  },
  {
   "cell_type": "code",
   "execution_count": 8,
   "metadata": {
    "collapsed": false
   },
   "outputs": [],
   "source": [
    "#####################################\n",
    "#                 3                 #\n",
    "#####################################\n",
    "\n",
    "## Rename the \"acct\" column in the daily_engagement table to \"account_key\".\n",
    "for i, item in enumerate(daily_engagement):\n",
    "    daily_engagement[i]['account_key'] = daily_engagement[i].pop('acct')\n",
    "    "
   ]
  },
  {
   "cell_type": "markdown",
   "metadata": {},
   "source": [
    "## Missing Engagement Records"
   ]
  },
  {
   "cell_type": "code",
   "execution_count": 9,
   "metadata": {
    "collapsed": false,
    "scrolled": true
   },
   "outputs": [
    {
     "data": {
      "text/plain": [
       "[{u'account_key': u'1219',\n",
       "  u'cancel_date': datetime.datetime(2014, 11, 12, 0, 0),\n",
       "  u'days_to_cancel': 0,\n",
       "  u'is_canceled': True,\n",
       "  u'is_udacity': False,\n",
       "  u'join_date': datetime.datetime(2014, 11, 12, 0, 0),\n",
       "  u'status': u'canceled'},\n",
       " {u'account_key': u'871',\n",
       "  u'cancel_date': datetime.datetime(2014, 11, 13, 0, 0),\n",
       "  u'days_to_cancel': 0,\n",
       "  u'is_canceled': True,\n",
       "  u'is_udacity': False,\n",
       "  u'join_date': datetime.datetime(2014, 11, 13, 0, 0),\n",
       "  u'status': u'canceled'},\n",
       " {u'account_key': u'1218',\n",
       "  u'cancel_date': datetime.datetime(2014, 11, 15, 0, 0),\n",
       "  u'days_to_cancel': 0,\n",
       "  u'is_canceled': True,\n",
       "  u'is_udacity': False,\n",
       "  u'join_date': datetime.datetime(2014, 11, 15, 0, 0),\n",
       "  u'status': u'canceled'},\n",
       " {u'account_key': u'654',\n",
       "  u'cancel_date': datetime.datetime(2014, 12, 4, 0, 0),\n",
       "  u'days_to_cancel': 0,\n",
       "  u'is_canceled': True,\n",
       "  u'is_udacity': False,\n",
       "  u'join_date': datetime.datetime(2014, 12, 4, 0, 0),\n",
       "  u'status': u'canceled'},\n",
       " {u'account_key': u'654',\n",
       "  u'cancel_date': datetime.datetime(2014, 12, 4, 0, 0),\n",
       "  u'days_to_cancel': 0,\n",
       "  u'is_canceled': True,\n",
       "  u'is_udacity': False,\n",
       "  u'join_date': datetime.datetime(2014, 12, 4, 0, 0),\n",
       "  u'status': u'canceled'},\n",
       " {u'account_key': u'654',\n",
       "  u'cancel_date': datetime.datetime(2014, 12, 3, 0, 0),\n",
       "  u'days_to_cancel': 0,\n",
       "  u'is_canceled': True,\n",
       "  u'is_udacity': False,\n",
       "  u'join_date': datetime.datetime(2014, 12, 3, 0, 0),\n",
       "  u'status': u'canceled'},\n",
       " {u'account_key': u'964',\n",
       "  u'cancel_date': datetime.datetime(2014, 12, 4, 0, 0),\n",
       "  u'days_to_cancel': 0,\n",
       "  u'is_canceled': True,\n",
       "  u'is_udacity': False,\n",
       "  u'join_date': datetime.datetime(2014, 12, 4, 0, 0),\n",
       "  u'status': u'canceled'},\n",
       " {u'account_key': u'817',\n",
       "  u'cancel_date': datetime.datetime(2014, 12, 9, 0, 0),\n",
       "  u'days_to_cancel': 0,\n",
       "  u'is_canceled': True,\n",
       "  u'is_udacity': False,\n",
       "  u'join_date': datetime.datetime(2014, 12, 9, 0, 0),\n",
       "  u'status': u'canceled'},\n",
       " {u'account_key': u'1171',\n",
       "  u'cancel_date': datetime.datetime(2015, 1, 7, 0, 0),\n",
       "  u'days_to_cancel': 0,\n",
       "  u'is_canceled': True,\n",
       "  u'is_udacity': False,\n",
       "  u'join_date': datetime.datetime(2015, 1, 7, 0, 0),\n",
       "  u'status': u'canceled'},\n",
       " {u'account_key': u'884',\n",
       "  u'cancel_date': datetime.datetime(2015, 1, 8, 0, 0),\n",
       "  u'days_to_cancel': 0,\n",
       "  u'is_canceled': True,\n",
       "  u'is_udacity': False,\n",
       "  u'join_date': datetime.datetime(2015, 1, 8, 0, 0),\n",
       "  u'status': u'canceled'},\n",
       " {u'account_key': u'875',\n",
       "  u'cancel_date': datetime.datetime(2014, 11, 17, 0, 0),\n",
       "  u'days_to_cancel': 0,\n",
       "  u'is_canceled': True,\n",
       "  u'is_udacity': False,\n",
       "  u'join_date': datetime.datetime(2014, 11, 17, 0, 0),\n",
       "  u'status': u'canceled'},\n",
       " {u'account_key': u'1120',\n",
       "  u'cancel_date': datetime.datetime(2014, 12, 4, 0, 0),\n",
       "  u'days_to_cancel': 0,\n",
       "  u'is_canceled': True,\n",
       "  u'is_udacity': False,\n",
       "  u'join_date': datetime.datetime(2014, 12, 4, 0, 0),\n",
       "  u'status': u'canceled'},\n",
       " {u'account_key': u'728',\n",
       "  u'cancel_date': datetime.datetime(2014, 12, 5, 0, 0),\n",
       "  u'days_to_cancel': 0,\n",
       "  u'is_canceled': True,\n",
       "  u'is_udacity': False,\n",
       "  u'join_date': datetime.datetime(2014, 12, 5, 0, 0),\n",
       "  u'status': u'canceled'},\n",
       " {u'account_key': u'1191',\n",
       "  u'cancel_date': datetime.datetime(2015, 1, 11, 0, 0),\n",
       "  u'days_to_cancel': 0,\n",
       "  u'is_canceled': True,\n",
       "  u'is_udacity': False,\n",
       "  u'join_date': datetime.datetime(2015, 1, 11, 0, 0),\n",
       "  u'status': u'canceled'},\n",
       " {u'account_key': u'1304',\n",
       "  u'cancel_date': datetime.datetime(2015, 3, 10, 0, 0),\n",
       "  u'days_to_cancel': 59,\n",
       "  u'is_canceled': True,\n",
       "  u'is_udacity': True,\n",
       "  u'join_date': datetime.datetime(2015, 1, 10, 0, 0),\n",
       "  u'status': u'canceled'},\n",
       " {u'account_key': u'1304',\n",
       "  u'cancel_date': datetime.datetime(2015, 6, 17, 0, 0),\n",
       "  u'days_to_cancel': 99,\n",
       "  u'is_canceled': True,\n",
       "  u'is_udacity': True,\n",
       "  u'join_date': datetime.datetime(2015, 3, 10, 0, 0),\n",
       "  u'status': u'canceled'},\n",
       " {u'account_key': u'1010',\n",
       "  u'cancel_date': datetime.datetime(2015, 1, 11, 0, 0),\n",
       "  u'days_to_cancel': 0,\n",
       "  u'is_canceled': True,\n",
       "  u'is_udacity': False,\n",
       "  u'join_date': datetime.datetime(2015, 1, 11, 0, 0),\n",
       "  u'status': u'canceled'},\n",
       " {u'account_key': u'841',\n",
       "  u'cancel_date': datetime.datetime(2014, 11, 12, 0, 0),\n",
       "  u'days_to_cancel': 0,\n",
       "  u'is_canceled': True,\n",
       "  u'is_udacity': False,\n",
       "  u'join_date': datetime.datetime(2014, 11, 12, 0, 0),\n",
       "  u'status': u'canceled'},\n",
       " {u'account_key': u'707',\n",
       "  u'cancel_date': datetime.datetime(2014, 12, 3, 0, 0),\n",
       "  u'days_to_cancel': 0,\n",
       "  u'is_canceled': True,\n",
       "  u'is_udacity': False,\n",
       "  u'join_date': datetime.datetime(2014, 12, 3, 0, 0),\n",
       "  u'status': u'canceled'},\n",
       " {u'account_key': u'717',\n",
       "  u'cancel_date': datetime.datetime(2014, 12, 4, 0, 0),\n",
       "  u'days_to_cancel': 0,\n",
       "  u'is_canceled': True,\n",
       "  u'is_udacity': False,\n",
       "  u'join_date': datetime.datetime(2014, 12, 4, 0, 0),\n",
       "  u'status': u'canceled'},\n",
       " {u'account_key': u'727',\n",
       "  u'cancel_date': datetime.datetime(2014, 12, 7, 0, 0),\n",
       "  u'days_to_cancel': 0,\n",
       "  u'is_canceled': True,\n",
       "  u'is_udacity': False,\n",
       "  u'join_date': datetime.datetime(2014, 12, 7, 0, 0),\n",
       "  u'status': u'canceled'},\n",
       " {u'account_key': u'1273',\n",
       "  u'cancel_date': datetime.datetime(2015, 1, 12, 0, 0),\n",
       "  u'days_to_cancel': 0,\n",
       "  u'is_canceled': True,\n",
       "  u'is_udacity': False,\n",
       "  u'join_date': datetime.datetime(2015, 1, 12, 0, 0),\n",
       "  u'status': u'canceled'},\n",
       " {u'account_key': u'1238',\n",
       "  u'cancel_date': datetime.datetime(2014, 11, 10, 0, 0),\n",
       "  u'days_to_cancel': 0,\n",
       "  u'is_canceled': True,\n",
       "  u'is_udacity': False,\n",
       "  u'join_date': datetime.datetime(2014, 11, 10, 0, 0),\n",
       "  u'status': u'canceled'},\n",
       " {u'account_key': u'1044',\n",
       "  u'cancel_date': datetime.datetime(2015, 2, 8, 0, 0),\n",
       "  u'days_to_cancel': 0,\n",
       "  u'is_canceled': True,\n",
       "  u'is_udacity': False,\n",
       "  u'join_date': datetime.datetime(2015, 2, 8, 0, 0),\n",
       "  u'status': u'canceled'},\n",
       " {u'account_key': u'749',\n",
       "  u'cancel_date': datetime.datetime(2015, 3, 5, 0, 0),\n",
       "  u'days_to_cancel': 0,\n",
       "  u'is_canceled': True,\n",
       "  u'is_udacity': False,\n",
       "  u'join_date': datetime.datetime(2015, 3, 5, 0, 0),\n",
       "  u'status': u'canceled'},\n",
       " {u'account_key': u'1129',\n",
       "  u'cancel_date': datetime.datetime(2015, 3, 7, 0, 0),\n",
       "  u'days_to_cancel': 0,\n",
       "  u'is_canceled': True,\n",
       "  u'is_udacity': False,\n",
       "  u'join_date': datetime.datetime(2015, 3, 7, 0, 0),\n",
       "  u'status': u'canceled'},\n",
       " {u'account_key': u'1129',\n",
       "  u'cancel_date': datetime.datetime(2015, 2, 11, 0, 0),\n",
       "  u'days_to_cancel': 0,\n",
       "  u'is_canceled': True,\n",
       "  u'is_udacity': False,\n",
       "  u'join_date': datetime.datetime(2015, 2, 11, 0, 0),\n",
       "  u'status': u'canceled'},\n",
       " {u'account_key': u'926',\n",
       "  u'cancel_date': datetime.datetime(2015, 4, 6, 0, 0),\n",
       "  u'days_to_cancel': 0,\n",
       "  u'is_canceled': True,\n",
       "  u'is_udacity': False,\n",
       "  u'join_date': datetime.datetime(2015, 4, 6, 0, 0),\n",
       "  u'status': u'canceled'},\n",
       " {u'account_key': u'711',\n",
       "  u'cancel_date': datetime.datetime(2015, 5, 8, 0, 0),\n",
       "  u'days_to_cancel': 0,\n",
       "  u'is_canceled': True,\n",
       "  u'is_udacity': False,\n",
       "  u'join_date': datetime.datetime(2015, 5, 8, 0, 0),\n",
       "  u'status': u'canceled'},\n",
       " {u'account_key': u'803',\n",
       "  u'cancel_date': datetime.datetime(2015, 1, 8, 0, 0),\n",
       "  u'days_to_cancel': 0,\n",
       "  u'is_canceled': True,\n",
       "  u'is_udacity': False,\n",
       "  u'join_date': datetime.datetime(2015, 1, 8, 0, 0),\n",
       "  u'status': u'canceled'},\n",
       " {u'account_key': u'799',\n",
       "  u'cancel_date': datetime.datetime(2015, 2, 6, 0, 0),\n",
       "  u'days_to_cancel': 0,\n",
       "  u'is_canceled': True,\n",
       "  u'is_udacity': False,\n",
       "  u'join_date': datetime.datetime(2015, 2, 6, 0, 0),\n",
       "  u'status': u'canceled'},\n",
       " {u'account_key': u'789',\n",
       "  u'cancel_date': datetime.datetime(2015, 2, 6, 0, 0),\n",
       "  u'days_to_cancel': 0,\n",
       "  u'is_canceled': True,\n",
       "  u'is_udacity': False,\n",
       "  u'join_date': datetime.datetime(2015, 2, 6, 0, 0),\n",
       "  u'status': u'canceled'},\n",
       " {u'account_key': u'819',\n",
       "  u'cancel_date': datetime.datetime(2015, 3, 4, 0, 0),\n",
       "  u'days_to_cancel': 0,\n",
       "  u'is_canceled': True,\n",
       "  u'is_udacity': False,\n",
       "  u'join_date': datetime.datetime(2015, 3, 4, 0, 0),\n",
       "  u'status': u'canceled'},\n",
       " {u'account_key': u'819',\n",
       "  u'cancel_date': datetime.datetime(2015, 3, 4, 0, 0),\n",
       "  u'days_to_cancel': 0,\n",
       "  u'is_canceled': True,\n",
       "  u'is_udacity': False,\n",
       "  u'join_date': datetime.datetime(2015, 3, 4, 0, 0),\n",
       "  u'status': u'canceled'},\n",
       " {u'account_key': u'902',\n",
       "  u'cancel_date': datetime.datetime(2015, 5, 29, 0, 0),\n",
       "  u'days_to_cancel': 0,\n",
       "  u'is_canceled': True,\n",
       "  u'is_udacity': False,\n",
       "  u'join_date': datetime.datetime(2015, 5, 29, 0, 0),\n",
       "  u'status': u'canceled'},\n",
       " {u'account_key': u'996',\n",
       "  u'cancel_date': datetime.datetime(2015, 5, 29, 0, 0),\n",
       "  u'days_to_cancel': 0,\n",
       "  u'is_canceled': True,\n",
       "  u'is_udacity': False,\n",
       "  u'join_date': datetime.datetime(2015, 5, 29, 0, 0),\n",
       "  u'status': u'canceled'},\n",
       " {u'account_key': u'1213',\n",
       "  u'cancel_date': datetime.datetime(2015, 1, 12, 0, 0),\n",
       "  u'days_to_cancel': 0,\n",
       "  u'is_canceled': True,\n",
       "  u'is_udacity': False,\n",
       "  u'join_date': datetime.datetime(2015, 1, 12, 0, 0),\n",
       "  u'status': u'canceled'},\n",
       " {u'account_key': u'733',\n",
       "  u'cancel_date': datetime.datetime(2015, 1, 12, 0, 0),\n",
       "  u'days_to_cancel': 0,\n",
       "  u'is_canceled': True,\n",
       "  u'is_udacity': False,\n",
       "  u'join_date': datetime.datetime(2015, 1, 12, 0, 0),\n",
       "  u'status': u'canceled'},\n",
       " {u'account_key': u'1237',\n",
       "  u'cancel_date': datetime.datetime(2015, 5, 28, 0, 0),\n",
       "  u'days_to_cancel': 0,\n",
       "  u'is_canceled': True,\n",
       "  u'is_udacity': False,\n",
       "  u'join_date': datetime.datetime(2015, 5, 28, 0, 0),\n",
       "  u'status': u'canceled'},\n",
       " {u'account_key': u'1069',\n",
       "  u'cancel_date': datetime.datetime(2015, 6, 1, 0, 0),\n",
       "  u'days_to_cancel': 0,\n",
       "  u'is_canceled': True,\n",
       "  u'is_udacity': True,\n",
       "  u'join_date': datetime.datetime(2015, 6, 1, 0, 0),\n",
       "  u'status': u'canceled'},\n",
       " {u'account_key': u'1086',\n",
       "  u'cancel_date': datetime.datetime(2015, 6, 9, 0, 0),\n",
       "  u'days_to_cancel': 0,\n",
       "  u'is_canceled': True,\n",
       "  u'is_udacity': False,\n",
       "  u'join_date': datetime.datetime(2015, 6, 9, 0, 0),\n",
       "  u'status': u'canceled'},\n",
       " {u'account_key': u'1190',\n",
       "  u'cancel_date': datetime.datetime(2015, 3, 6, 0, 0),\n",
       "  u'days_to_cancel': 0,\n",
       "  u'is_canceled': True,\n",
       "  u'is_udacity': False,\n",
       "  u'join_date': datetime.datetime(2015, 3, 6, 0, 0),\n",
       "  u'status': u'canceled'},\n",
       " {u'account_key': u'914',\n",
       "  u'cancel_date': datetime.datetime(2015, 4, 2, 0, 0),\n",
       "  u'days_to_cancel': 0,\n",
       "  u'is_canceled': True,\n",
       "  u'is_udacity': False,\n",
       "  u'join_date': datetime.datetime(2015, 4, 2, 0, 0),\n",
       "  u'status': u'canceled'},\n",
       " {u'account_key': u'914',\n",
       "  u'cancel_date': datetime.datetime(2015, 7, 17, 0, 0),\n",
       "  u'days_to_cancel': 0,\n",
       "  u'is_canceled': True,\n",
       "  u'is_udacity': False,\n",
       "  u'join_date': datetime.datetime(2015, 7, 17, 0, 0),\n",
       "  u'status': u'canceled'},\n",
       " {u'account_key': u'968',\n",
       "  u'cancel_date': datetime.datetime(2015, 7, 17, 0, 0),\n",
       "  u'days_to_cancel': 0,\n",
       "  u'is_canceled': True,\n",
       "  u'is_udacity': False,\n",
       "  u'join_date': datetime.datetime(2015, 7, 17, 0, 0),\n",
       "  u'status': u'canceled'},\n",
       " {u'account_key': u'1155',\n",
       "  u'cancel_date': datetime.datetime(2015, 7, 17, 0, 0),\n",
       "  u'days_to_cancel': 0,\n",
       "  u'is_canceled': True,\n",
       "  u'is_udacity': False,\n",
       "  u'join_date': datetime.datetime(2015, 7, 17, 0, 0),\n",
       "  u'status': u'canceled'},\n",
       " {u'account_key': u'766',\n",
       "  u'cancel_date': datetime.datetime(2015, 5, 10, 0, 0),\n",
       "  u'days_to_cancel': 0,\n",
       "  u'is_canceled': True,\n",
       "  u'is_udacity': False,\n",
       "  u'join_date': datetime.datetime(2015, 5, 10, 0, 0),\n",
       "  u'status': u'canceled'},\n",
       " {u'account_key': u'739',\n",
       "  u'cancel_date': datetime.datetime(2015, 4, 5, 0, 0),\n",
       "  u'days_to_cancel': 0,\n",
       "  u'is_canceled': True,\n",
       "  u'is_udacity': False,\n",
       "  u'join_date': datetime.datetime(2015, 4, 5, 0, 0),\n",
       "  u'status': u'canceled'},\n",
       " {u'account_key': u'1222',\n",
       "  u'cancel_date': datetime.datetime(2015, 4, 7, 0, 0),\n",
       "  u'days_to_cancel': 0,\n",
       "  u'is_canceled': True,\n",
       "  u'is_udacity': False,\n",
       "  u'join_date': datetime.datetime(2015, 4, 7, 0, 0),\n",
       "  u'status': u'canceled'},\n",
       " {u'account_key': u'1125',\n",
       "  u'cancel_date': datetime.datetime(2015, 5, 31, 0, 0),\n",
       "  u'days_to_cancel': 0,\n",
       "  u'is_canceled': True,\n",
       "  u'is_udacity': False,\n",
       "  u'join_date': datetime.datetime(2015, 5, 31, 0, 0),\n",
       "  u'status': u'canceled'},\n",
       " {u'account_key': u'1025',\n",
       "  u'cancel_date': datetime.datetime(2015, 6, 7, 0, 0),\n",
       "  u'days_to_cancel': 0,\n",
       "  u'is_canceled': True,\n",
       "  u'is_udacity': False,\n",
       "  u'join_date': datetime.datetime(2015, 6, 7, 0, 0),\n",
       "  u'status': u'canceled'},\n",
       " {u'account_key': u'750',\n",
       "  u'cancel_date': datetime.datetime(2015, 6, 6, 0, 0),\n",
       "  u'days_to_cancel': 0,\n",
       "  u'is_canceled': True,\n",
       "  u'is_udacity': False,\n",
       "  u'join_date': datetime.datetime(2015, 6, 6, 0, 0),\n",
       "  u'status': u'canceled'},\n",
       " {u'account_key': u'889',\n",
       "  u'cancel_date': datetime.datetime(2015, 8, 11, 0, 0),\n",
       "  u'days_to_cancel': 0,\n",
       "  u'is_canceled': True,\n",
       "  u'is_udacity': False,\n",
       "  u'join_date': datetime.datetime(2015, 8, 11, 0, 0),\n",
       "  u'status': u'canceled'},\n",
       " {u'account_key': u'737',\n",
       "  u'cancel_date': datetime.datetime(2014, 11, 10, 0, 0),\n",
       "  u'days_to_cancel': 0,\n",
       "  u'is_canceled': True,\n",
       "  u'is_udacity': False,\n",
       "  u'join_date': datetime.datetime(2014, 11, 10, 0, 0),\n",
       "  u'status': u'canceled'},\n",
       " {u'account_key': u'878',\n",
       "  u'cancel_date': datetime.datetime(2014, 11, 10, 0, 0),\n",
       "  u'days_to_cancel': 0,\n",
       "  u'is_canceled': True,\n",
       "  u'is_udacity': False,\n",
       "  u'join_date': datetime.datetime(2014, 11, 10, 0, 0),\n",
       "  u'status': u'canceled'},\n",
       " {u'account_key': u'981',\n",
       "  u'cancel_date': datetime.datetime(2015, 2, 7, 0, 0),\n",
       "  u'days_to_cancel': 0,\n",
       "  u'is_canceled': True,\n",
       "  u'is_udacity': False,\n",
       "  u'join_date': datetime.datetime(2015, 2, 7, 0, 0),\n",
       "  u'status': u'canceled'},\n",
       " {u'account_key': u'1101',\n",
       "  u'cancel_date': None,\n",
       "  u'days_to_cancel': None,\n",
       "  u'is_canceled': False,\n",
       "  u'is_udacity': True,\n",
       "  u'join_date': datetime.datetime(2015, 2, 25, 0, 0),\n",
       "  u'status': u'current'},\n",
       " {u'account_key': u'1148',\n",
       "  u'cancel_date': datetime.datetime(2015, 3, 9, 0, 0),\n",
       "  u'days_to_cancel': 0,\n",
       "  u'is_canceled': True,\n",
       "  u'is_udacity': False,\n",
       "  u'join_date': datetime.datetime(2015, 3, 9, 0, 0),\n",
       "  u'status': u'canceled'},\n",
       " {u'account_key': u'1186',\n",
       "  u'cancel_date': datetime.datetime(2015, 3, 11, 0, 0),\n",
       "  u'days_to_cancel': 0,\n",
       "  u'is_canceled': True,\n",
       "  u'is_udacity': False,\n",
       "  u'join_date': datetime.datetime(2015, 3, 11, 0, 0),\n",
       "  u'status': u'canceled'},\n",
       " {u'account_key': u'725',\n",
       "  u'cancel_date': datetime.datetime(2014, 12, 6, 0, 0),\n",
       "  u'days_to_cancel': 0,\n",
       "  u'is_canceled': True,\n",
       "  u'is_udacity': False,\n",
       "  u'join_date': datetime.datetime(2014, 12, 6, 0, 0),\n",
       "  u'status': u'canceled'},\n",
       " {u'account_key': u'1145',\n",
       "  u'cancel_date': datetime.datetime(2015, 4, 4, 0, 0),\n",
       "  u'days_to_cancel': 0,\n",
       "  u'is_canceled': True,\n",
       "  u'is_udacity': False,\n",
       "  u'join_date': datetime.datetime(2015, 4, 4, 0, 0),\n",
       "  u'status': u'canceled'},\n",
       " {u'account_key': u'802',\n",
       "  u'cancel_date': datetime.datetime(2015, 1, 8, 0, 0),\n",
       "  u'days_to_cancel': 0,\n",
       "  u'is_canceled': True,\n",
       "  u'is_udacity': False,\n",
       "  u'join_date': datetime.datetime(2015, 1, 8, 0, 0),\n",
       "  u'status': u'canceled'},\n",
       " {u'account_key': u'664',\n",
       "  u'cancel_date': datetime.datetime(2015, 1, 8, 0, 0),\n",
       "  u'days_to_cancel': 0,\n",
       "  u'is_canceled': True,\n",
       "  u'is_udacity': False,\n",
       "  u'join_date': datetime.datetime(2015, 1, 8, 0, 0),\n",
       "  u'status': u'canceled'},\n",
       " {u'account_key': u'997',\n",
       "  u'cancel_date': datetime.datetime(2015, 1, 12, 0, 0),\n",
       "  u'days_to_cancel': 0,\n",
       "  u'is_canceled': True,\n",
       "  u'is_udacity': False,\n",
       "  u'join_date': datetime.datetime(2015, 1, 12, 0, 0),\n",
       "  u'status': u'canceled'},\n",
       " {u'account_key': u'870',\n",
       "  u'cancel_date': datetime.datetime(2015, 5, 12, 0, 0),\n",
       "  u'days_to_cancel': 0,\n",
       "  u'is_canceled': True,\n",
       "  u'is_udacity': False,\n",
       "  u'join_date': datetime.datetime(2015, 5, 12, 0, 0),\n",
       "  u'status': u'canceled'},\n",
       " {u'account_key': u'1284',\n",
       "  u'cancel_date': datetime.datetime(2015, 1, 13, 0, 0),\n",
       "  u'days_to_cancel': 0,\n",
       "  u'is_canceled': True,\n",
       "  u'is_udacity': False,\n",
       "  u'join_date': datetime.datetime(2015, 1, 13, 0, 0),\n",
       "  u'status': u'canceled'},\n",
       " {u'account_key': u'1079',\n",
       "  u'cancel_date': datetime.datetime(2015, 2, 9, 0, 0),\n",
       "  u'days_to_cancel': 0,\n",
       "  u'is_canceled': True,\n",
       "  u'is_udacity': False,\n",
       "  u'join_date': datetime.datetime(2015, 2, 9, 0, 0),\n",
       "  u'status': u'canceled'},\n",
       " {u'account_key': u'1063',\n",
       "  u'cancel_date': datetime.datetime(2015, 7, 14, 0, 0),\n",
       "  u'days_to_cancel': 0,\n",
       "  u'is_canceled': True,\n",
       "  u'is_udacity': False,\n",
       "  u'join_date': datetime.datetime(2015, 7, 14, 0, 0),\n",
       "  u'status': u'canceled'},\n",
       " {u'account_key': u'1270',\n",
       "  u'cancel_date': datetime.datetime(2015, 7, 20, 0, 0),\n",
       "  u'days_to_cancel': 0,\n",
       "  u'is_canceled': True,\n",
       "  u'is_udacity': False,\n",
       "  u'join_date': datetime.datetime(2015, 7, 20, 0, 0),\n",
       "  u'status': u'canceled'},\n",
       " {u'account_key': u'1291',\n",
       "  u'cancel_date': datetime.datetime(2015, 6, 3, 0, 0),\n",
       "  u'days_to_cancel': 0,\n",
       "  u'is_canceled': True,\n",
       "  u'is_udacity': False,\n",
       "  u'join_date': datetime.datetime(2015, 6, 3, 0, 0),\n",
       "  u'status': u'canceled'},\n",
       " {u'account_key': u'1241',\n",
       "  u'cancel_date': datetime.datetime(2015, 6, 9, 0, 0),\n",
       "  u'days_to_cancel': 0,\n",
       "  u'is_canceled': True,\n",
       "  u'is_udacity': False,\n",
       "  u'join_date': datetime.datetime(2015, 6, 9, 0, 0),\n",
       "  u'status': u'canceled'}]"
      ]
     },
     "execution_count": 9,
     "metadata": {},
     "output_type": "execute_result"
    }
   ],
   "source": [
    "#####################################\n",
    "#                 4                 #\n",
    "#####################################\n",
    "\n",
    "## Find any one student enrollments where the student is missing from the daily engagement table.\n",
    "## Output that enrollment.\n",
    "\n",
    "[x for x in enrollments if x['account_key'] not in d_set]\n"
   ]
  },
  {
   "cell_type": "markdown",
   "metadata": {},
   "source": [
    "## Checking for More Problem Records"
   ]
  },
  {
   "cell_type": "code",
   "execution_count": 10,
   "metadata": {
    "collapsed": false,
    "scrolled": false
   },
   "outputs": [
    {
     "data": {
      "text/plain": [
       "[{u'account_key': u'1304',\n",
       "  u'cancel_date': datetime.datetime(2015, 3, 10, 0, 0),\n",
       "  u'days_to_cancel': 59,\n",
       "  u'is_canceled': True,\n",
       "  u'is_udacity': True,\n",
       "  u'join_date': datetime.datetime(2015, 1, 10, 0, 0),\n",
       "  u'status': u'canceled'},\n",
       " {u'account_key': u'1304',\n",
       "  u'cancel_date': datetime.datetime(2015, 6, 17, 0, 0),\n",
       "  u'days_to_cancel': 99,\n",
       "  u'is_canceled': True,\n",
       "  u'is_udacity': True,\n",
       "  u'join_date': datetime.datetime(2015, 3, 10, 0, 0),\n",
       "  u'status': u'canceled'},\n",
       " {u'account_key': u'1101',\n",
       "  u'cancel_date': None,\n",
       "  u'days_to_cancel': None,\n",
       "  u'is_canceled': False,\n",
       "  u'is_udacity': True,\n",
       "  u'join_date': datetime.datetime(2015, 2, 25, 0, 0),\n",
       "  u'status': u'current'}]"
      ]
     },
     "execution_count": 10,
     "metadata": {},
     "output_type": "execute_result"
    }
   ],
   "source": [
    "#####################################\n",
    "#                 5                 #\n",
    "#####################################\n",
    "\n",
    "## Find the number of surprising data points (enrollments missing from\n",
    "## the engagement table) that remain, if any.\n",
    "\n",
    "[x for x in enrollments if x['account_key'] not in d_set and x['cancel_date'] != x['join_date']]\n"
   ]
  },
  {
   "cell_type": "markdown",
   "metadata": {},
   "source": [
    "## Tracking Down the Remaining Problems"
   ]
  },
  {
   "cell_type": "code",
   "execution_count": 11,
   "metadata": {
    "collapsed": false
   },
   "outputs": [
    {
     "data": {
      "text/plain": [
       "[6, 1296]"
      ]
     },
     "execution_count": 11,
     "metadata": {},
     "output_type": "execute_result"
    }
   ],
   "source": [
    "# Create a set of the account keys for all Udacity test accounts\n",
    "udacity_test_accounts = set()\n",
    "non_test_accounts = set()\n",
    "for enrollment in enrollments:\n",
    "    if enrollment['is_udacity']:\n",
    "        udacity_test_accounts.add(enrollment['account_key'])\n",
    "    else:\n",
    "        non_test_accounts.add(enrollment['account_key'])\n",
    "[len(udacity_test_accounts), len(non_test_accounts)]"
   ]
  },
  {
   "cell_type": "code",
   "execution_count": 12,
   "metadata": {
    "collapsed": true
   },
   "outputs": [],
   "source": [
    "# Given some data with an account_key field, removes any records corresponding to Udacity test accounts\n",
    "def remove_udacity_accounts(data):\n",
    "    non_udacity_data = []\n",
    "    for data_point in data:\n",
    "        if data_point['account_key'] not in udacity_test_accounts:\n",
    "            non_udacity_data.append(data_point)\n",
    "    return non_udacity_data"
   ]
  },
  {
   "cell_type": "code",
   "execution_count": 13,
   "metadata": {
    "collapsed": false
   },
   "outputs": [
    {
     "name": "stdout",
     "output_type": "stream",
     "text": [
      "1622\n",
      "135656\n",
      "3634\n"
     ]
    }
   ],
   "source": [
    "# Remove Udacity test accounts from all three tables\n",
    "non_udacity_enrollments = remove_udacity_accounts(enrollments)\n",
    "non_udacity_engagement = remove_udacity_accounts(daily_engagement)\n",
    "non_udacity_submissions = remove_udacity_accounts(project_submissions)\n",
    "\n",
    "print len(non_udacity_enrollments)\n",
    "print len(non_udacity_engagement)\n",
    "print len(non_udacity_submissions)"
   ]
  },
  {
   "cell_type": "code",
   "execution_count": 14,
   "metadata": {
    "collapsed": false
   },
   "outputs": [
    {
     "data": {
      "text/plain": [
       "995"
      ]
     },
     "execution_count": 14,
     "metadata": {},
     "output_type": "execute_result"
    }
   ],
   "source": [
    "#####################################\n",
    "#                 6                 #\n",
    "#####################################\n",
    "\n",
    "## Create a dictionary named paid_students containing all students who either\n",
    "## haven't canceled yet or who remained enrolled for more than 7 days. The keys\n",
    "## should be account keys, and the values should be the date the student enrolled.\n",
    "\n",
    "# paid_students = {x['account_key']: x['join_date'] for x in non_udacity_enrollments if (not x['is_canceled'] or x['days_to_cancel'] > 7)}\n",
    "\n",
    "paid_students = {}\n",
    "for enrollment in non_udacity_enrollments:\n",
    "    if (not enrollment['is_canceled'] or\n",
    "            enrollment['days_to_cancel'] > 7):\n",
    "        account_key = enrollment['account_key']\n",
    "        enrollment_date = enrollment['join_date']\n",
    "\n",
    "        if (account_key not in paid_students or\n",
    "                enrollment_date > paid_students[account_key]):\n",
    "            paid_students[account_key] = enrollment_date\n",
    "\n",
    "len(paid_students)"
   ]
  },
  {
   "cell_type": "markdown",
   "metadata": {},
   "source": [
    "## Refining the Question"
   ]
  },
  {
   "cell_type": "code",
   "execution_count": 15,
   "metadata": {
    "collapsed": false
   },
   "outputs": [
    {
     "data": {
      "text/plain": [
       "995"
      ]
     },
     "execution_count": 15,
     "metadata": {},
     "output_type": "execute_result"
    }
   ],
   "source": [
    "paid_students = {}\n",
    "for enrollment in non_udacity_enrollments:\n",
    "    if (not enrollment['is_canceled'] or\n",
    "            enrollment['days_to_cancel'] > 7):\n",
    "        account_key = enrollment['account_key']\n",
    "        enrollment_date = enrollment['join_date']\n",
    "\n",
    "        if (account_key not in paid_students or\n",
    "                enrollment_date > paid_students[account_key]):\n",
    "            paid_students[account_key] = enrollment_date\n",
    "\n",
    "len(paid_students)"
   ]
  },
  {
   "cell_type": "markdown",
   "metadata": {},
   "source": [
    "## Getting Data from First Week"
   ]
  },
  {
   "cell_type": "code",
   "execution_count": 16,
   "metadata": {
    "collapsed": true
   },
   "outputs": [],
   "source": [
    "# Takes a student's join date and the date of a specific engagement record,\n",
    "# and returns True if that engagement record happened within one week\n",
    "# of the student joining.\n",
    "def within_one_week(join_date, engagement_date):\n",
    "    time_delta = engagement_date - join_date\n",
    "    return 0 <= time_delta.days < 7"
   ]
  },
  {
   "cell_type": "code",
   "execution_count": 17,
   "metadata": {
    "collapsed": false
   },
   "outputs": [],
   "source": [
    "#####################################\n",
    "#                 7                 #\n",
    "#####################################\n",
    "\n",
    "## Create a list of rows from the engagement table including only rows where\n",
    "## the student is one of the paid students you just found, and the date is within\n",
    "## one week of the student's join date.\n",
    "\n",
    "paid_engagement_in_first_week = [x for x in daily_engagement\n",
    "                                 if x['account_key'] in paid_students.keys()\n",
    "                                 and within_one_week(paid_students[x['account_key']], x['utc_date'])]"
   ]
  },
  {
   "cell_type": "code",
   "execution_count": 18,
   "metadata": {
    "collapsed": false
   },
   "outputs": [
    {
     "data": {
      "text/plain": [
       "6919"
      ]
     },
     "execution_count": 18,
     "metadata": {},
     "output_type": "execute_result"
    }
   ],
   "source": [
    "len(paid_engagement_in_first_week)"
   ]
  },
  {
   "cell_type": "markdown",
   "metadata": {},
   "source": [
    "## Exploring Student Engagement"
   ]
  },
  {
   "cell_type": "code",
   "execution_count": 19,
   "metadata": {
    "collapsed": true
   },
   "outputs": [],
   "source": [
    "from collections import defaultdict\n",
    "\n",
    "# Create a dictionary of engagement grouped by student.\n",
    "# The keys are account keys, and the values are lists of engagement records.\n",
    "engagement_by_account = defaultdict(list)\n",
    "for engagement_record in paid_engagement_in_first_week:\n",
    "    account_key = engagement_record['account_key']\n",
    "    engagement_by_account[account_key].append(engagement_record)"
   ]
  },
  {
   "cell_type": "code",
   "execution_count": 20,
   "metadata": {
    "collapsed": true
   },
   "outputs": [],
   "source": [
    "# Create a dictionary with the total minutes each student spent in the classroom during the first week.\n",
    "# The keys are account keys, and the values are numbers (total minutes)\n",
    "total_minutes_by_account = {}\n",
    "for account_key, engagement_for_student in engagement_by_account.items():\n",
    "    total_minutes = 0\n",
    "    for engagement_record in engagement_for_student:\n",
    "        total_minutes += engagement_record['total_minutes_visited']\n",
    "    total_minutes_by_account[account_key] = total_minutes"
   ]
  },
  {
   "cell_type": "code",
   "execution_count": 21,
   "metadata": {
    "collapsed": false
   },
   "outputs": [
    {
     "name": "stdout",
     "output_type": "stream",
     "text": [
      "Mean: 306.708326753\n",
      "Standard deviation: 412.996933409\n",
      "Minimum: 0.0\n",
      "Maximum: 3564.7332645\n"
     ]
    }
   ],
   "source": [
    "import numpy as np\n",
    "\n",
    "# Summarize the data about minutes spent in the classroom\n",
    "total_minutes = total_minutes_by_account.values()\n",
    "print 'Mean:', np.mean(total_minutes)\n",
    "print 'Standard deviation:', np.std(total_minutes)\n",
    "print 'Minimum:', np.min(total_minutes)\n",
    "print 'Maximum:', np.max(total_minutes)"
   ]
  },
  {
   "cell_type": "markdown",
   "metadata": {},
   "source": [
    "## Debugging Data Analysis Code"
   ]
  },
  {
   "cell_type": "code",
   "execution_count": 22,
   "metadata": {
    "collapsed": false
   },
   "outputs": [
    {
     "data": {
      "text/plain": [
       "{'account_key': u'0',\n",
       " u'lessons_completed': 0,\n",
       " u'num_courses_visited': 1,\n",
       " u'projects_completed': 0,\n",
       " u'total_minutes_visited': 11.6793745,\n",
       " u'utc_date': datetime.datetime(2015, 1, 9, 0, 0)}"
      ]
     },
     "execution_count": 22,
     "metadata": {},
     "output_type": "execute_result"
    }
   ],
   "source": [
    "#####################################\n",
    "#                 8                 #\n",
    "#####################################\n",
    "\n",
    "## Go through a similar process as before to see if there is a problem.\n",
    "## Locate at least one surprising piece of data, output it, and take a look at it.\n",
    "\n",
    "paid_engagement_in_first_week[0]\n"
   ]
  },
  {
   "cell_type": "markdown",
   "metadata": {},
   "source": [
    "## Lessons Completed in First Week"
   ]
  },
  {
   "cell_type": "code",
   "execution_count": 23,
   "metadata": {
    "collapsed": false
   },
   "outputs": [
    {
     "data": {
      "text/plain": [
       "[1.636180904522613, 3.0025612998294227, 0, 36]"
      ]
     },
     "execution_count": 23,
     "metadata": {},
     "output_type": "execute_result"
    }
   ],
   "source": [
    "#####################################\n",
    "#                 9                 #\n",
    "#####################################\n",
    "\n",
    "## Adapt the code above to find the mean, standard deviation, minimum, and maximum for\n",
    "## the number of lessons completed by each student during the first week. Try creating\n",
    "## one or more functions to re-use the code above.\n",
    "\n",
    "paid_accts = set([x['account_key'] for x in paid_engagement_in_first_week])\n",
    "paid_dict = {x: 0 for x in paid_accts}\n",
    "for i in paid_engagement_in_first_week:\n",
    "    paid_dict[i['account_key']] += i['lessons_completed']\n",
    "\n",
    "paid_lessons_comp = paid_dict.values()\n",
    "[\n",
    "np.mean(paid_lessons_comp),\n",
    "np.std(paid_lessons_comp),\n",
    "np.min(paid_lessons_comp),\n",
    "np.max(paid_lessons_comp),\n",
    "]\n"
   ]
  },
  {
   "cell_type": "markdown",
   "metadata": {},
   "source": [
    "## Number of Visits in First Week"
   ]
  },
  {
   "cell_type": "code",
   "execution_count": 24,
   "metadata": {
    "collapsed": false
   },
   "outputs": [
    {
     "data": {
      "text/plain": [
       "[2.8673366834170855, 2.2551980029196814, 0, 7]"
      ]
     },
     "execution_count": 24,
     "metadata": {},
     "output_type": "execute_result"
    }
   ],
   "source": [
    "######################################\n",
    "#                 10                 #\n",
    "######################################\n",
    "\n",
    "## Find the mean, standard deviation, minimum, and maximum for the number of\n",
    "## days each student visits the classroom during the first week.\n",
    "\n",
    "paid_accts = set([x['account_key'] for x in paid_engagement_in_first_week])\n",
    "paid_dict = {x: 0 for x in paid_accts}\n",
    "for i in paid_engagement_in_first_week:\n",
    "    if i['total_minutes_visited'] > 0:\n",
    "        paid_dict[i['account_key']] += 1\n",
    "\n",
    "paid_lessons_comp = paid_dict.values()\n",
    "[\n",
    "np.mean(paid_lessons_comp),\n",
    "np.std(paid_lessons_comp),\n",
    "np.min(paid_lessons_comp),\n",
    "np.max(paid_lessons_comp),\n",
    "]\n"
   ]
  },
  {
   "cell_type": "markdown",
   "metadata": {},
   "source": [
    "## Splitting out Passing Students"
   ]
  },
  {
   "cell_type": "code",
   "execution_count": 25,
   "metadata": {
    "collapsed": false
   },
   "outputs": [
    {
     "data": {
      "text/plain": [
       "[4527, 2392]"
      ]
     },
     "execution_count": 25,
     "metadata": {},
     "output_type": "execute_result"
    }
   ],
   "source": [
    "######################################\n",
    "#                 11                 #\n",
    "######################################\n",
    "\n",
    "## Create two lists of engagement data for paid students in the first week.\n",
    "## The first list should contain data for students who eventually pass the\n",
    "## subway project, and the second list should contain data for students\n",
    "## who do not.\n",
    "\n",
    "subway_project_lesson_keys = ['746169184', '3176718735']\n",
    "\n",
    "passed = set([x['account_key'] for x in non_udacity_submissions \\\n",
    "          if x['lesson_key'] in subway_project_lesson_keys \\\n",
    "          and x['assigned_rating'] in ['PASSED', 'DISTINCTION'] \\\n",
    "          and x['processing_state'] == 'EVALUATED'])\n",
    "\n",
    "passing_engagement = [x for x in paid_engagement_in_first_week if x['account_key'] in passed]\n",
    "non_passing_engagement = [x for x in paid_engagement_in_first_week if x['account_key'] not in passed]\n",
    "\n",
    "[\n",
    "len(passing_engagement),\n",
    "len(non_passing_engagement)\n",
    "]\n"
   ]
  },
  {
   "cell_type": "code",
   "execution_count": 26,
   "metadata": {
    "collapsed": false
   },
   "outputs": [],
   "source": [
    "\n",
    "passed = set([x['account_key'] for x in non_udacity_submissions \\\n",
    "          if x['assigned_rating'] in ['PASSED', 'DISTINCTION'] \\\n",
    "          and x['processing_state'] == 'EVALUATED'])\n",
    "\n",
    "paid_accts = set([x['account_key'] for x in paid_engagement_in_first_week])\n",
    "\n",
    "mins_pass = {x: 0 for x in paid_accts if x in passed}\n",
    "mins_no_pass = {x: 0 for x in paid_accts if x not in passed}\n",
    "\n",
    "lessons_pass = {x: 0 for x in paid_accts if x in passed}\n",
    "lessons_no_pass = {x: 0 for x in paid_accts if x not in passed}\n",
    "\n",
    "days_pass = {x: 0 for x in paid_accts if x in passed}\n",
    "days_no_pass = {x: 0 for x in paid_accts if x not in passed}\n",
    "\n",
    "for i in [x for x in paid_engagement_in_first_week if x['account_key'] in passed]:\n",
    "    if i['total_minutes_visited'] > 0:\n",
    "        mins_pass[i['account_key']] += i['total_minutes_visited']\n",
    "        \n",
    "for i in [x for x in paid_engagement_in_first_week if x['account_key'] not in passed]:\n",
    "    if i['total_minutes_visited'] > 0:\n",
    "        mins_no_pass[i['account_key']] += i['total_minutes_visited']\n",
    "        \n",
    "for i in [x for x in paid_engagement_in_first_week if x['account_key'] in passed]:\n",
    "    lessons_pass[i['account_key']] += i['lessons_completed']\n",
    "        \n",
    "for i in [x for x in paid_engagement_in_first_week if x['account_key'] not in passed]:\n",
    "    lessons_no_pass[i['account_key']] += i['lessons_completed']\n",
    "\n",
    "for i in [x for x in paid_engagement_in_first_week if x['account_key'] in passed]:\n",
    "    if i['total_minutes_visited'] > 0:\n",
    "        days_pass[i['account_key']] += 1\n",
    "        \n",
    "for i in [x for x in paid_engagement_in_first_week if x['account_key'] not in passed]:\n",
    "    if i['total_minutes_visited'] > 0:\n",
    "        days_no_pass[i['account_key']] += 1\n",
    "        \n"
   ]
  },
  {
   "cell_type": "code",
   "execution_count": 27,
   "metadata": {
    "collapsed": false
   },
   "outputs": [
    {
     "data": {
      "text/plain": [
       "[2.8673366834170855, 2.2551980029196814, 0, 7]"
      ]
     },
     "execution_count": 27,
     "metadata": {},
     "output_type": "execute_result"
    }
   ],
   "source": [
    "mins_pass.values()\n",
    "[\n",
    "np.mean(paid_lessons_comp),\n",
    "np.std(paid_lessons_comp),\n",
    "np.min(paid_lessons_comp),\n",
    "np.max(paid_lessons_comp),\n",
    "]"
   ]
  },
  {
   "cell_type": "markdown",
   "metadata": {},
   "source": [
    "## Comparing the Two Student Groups"
   ]
  },
  {
   "cell_type": "code",
   "execution_count": 28,
   "metadata": {
    "collapsed": false,
    "scrolled": true
   },
   "outputs": [
    {
     "data": {
      "text/plain": [
       "[1452.709982333,\n",
       " 809.546996001,\n",
       " 614.9778563333,\n",
       " 494.88049616599994,\n",
       " 248.12435916639998,\n",
       " 713.3479524992999,\n",
       " 392.473794834,\n",
       " 35.531418,\n",
       " 0,\n",
       " 83.295313,\n",
       " 1764.5367983344001,\n",
       " 0,\n",
       " 211.3875440003,\n",
       " 307.3006509996,\n",
       " 101.387314333,\n",
       " 1482.9020456663002,\n",
       " 213.4699951663,\n",
       " 0,\n",
       " 199.06043566667,\n",
       " 338.67828999970004,\n",
       " 405.600248833,\n",
       " 421.6092228329,\n",
       " 192.665344,\n",
       " 497.8218254996,\n",
       " 442.37721166627,\n",
       " 0,\n",
       " 0,\n",
       " 0,\n",
       " 0,\n",
       " 488.40353200030006,\n",
       " 335.5259626667,\n",
       " 0,\n",
       " 1047.649452501,\n",
       " 311.07236283327,\n",
       " 1166.4244791677,\n",
       " 315.44705699977,\n",
       " 931.3076661670001,\n",
       " 383.1542506668,\n",
       " 137.2655706667,\n",
       " 7.94751166667,\n",
       " 121.07599299993,\n",
       " 402.42499849989997,\n",
       " 1020.3306876671,\n",
       " 830.83625116633,\n",
       " 1203.2224428333002,\n",
       " 70.48434450007001,\n",
       " 1435.0160603327001,\n",
       " 44.477798999970005,\n",
       " 429.03252133340004,\n",
       " 884.915487,\n",
       " 0,\n",
       " 143.048056833,\n",
       " 0,\n",
       " 0,\n",
       " 670.3438828333,\n",
       " 256.4187193326,\n",
       " 109.5149769999,\n",
       " 406.0453698336,\n",
       " 303.55134400000003,\n",
       " 61.33310733329999,\n",
       " 619.9953998326,\n",
       " 514.0743979996,\n",
       " 0,\n",
       " 172.77872349963,\n",
       " 20.247478,\n",
       " 621.5755701662999,\n",
       " 1001.813550333,\n",
       " 184.162204667,\n",
       " 1065.2951291673999,\n",
       " 45.9874008334,\n",
       " 119.916663667,\n",
       " 90.90472849993,\n",
       " 46.3023048333,\n",
       " 0,\n",
       " 854.8288881656,\n",
       " 164.27089083347,\n",
       " 1167.52455983297,\n",
       " 277.0299235,\n",
       " 1075.0625133337,\n",
       " 145.70615016660003,\n",
       " 148.7306783333,\n",
       " 29.0687406666,\n",
       " 171.2928940001,\n",
       " 839.123771167,\n",
       " 312.1800340007,\n",
       " 1001.5888595,\n",
       " 0,\n",
       " 108.9832133333,\n",
       " 253.9870258334,\n",
       " 123.2915048333,\n",
       " 0,\n",
       " 69.6578351667,\n",
       " 1378.195091668,\n",
       " 809.2138958339,\n",
       " 765.6402170004,\n",
       " 180.413814,\n",
       " 340.70627749999994,\n",
       " 0,\n",
       " 793.6706421670001,\n",
       " 421.960349833,\n",
       " 847.3979861667,\n",
       " 488.3752611667,\n",
       " 363.94914149996,\n",
       " 847.38115366667,\n",
       " 858.37418699973,\n",
       " 39.4918656667,\n",
       " 696.5725646662999,\n",
       " 433.22729549969995,\n",
       " 437.22883383330003,\n",
       " 81.51043433337,\n",
       " 1024.0636758326,\n",
       " 77.9742268333,\n",
       " 0,\n",
       " 13.2610473333,\n",
       " 855.4038108340001,\n",
       " 0,\n",
       " 0,\n",
       " 278.6769970004,\n",
       " 501.941580166,\n",
       " 187.9226685,\n",
       " 129.087694,\n",
       " 124.52342500033,\n",
       " 214.54059633330002,\n",
       " 246.61175300029998,\n",
       " 260.94864483347,\n",
       " 324.6302378336,\n",
       " 780.4545511666701,\n",
       " 317.10422516660003,\n",
       " 525.6444536663,\n",
       " 84.9883638333,\n",
       " 114.43403466663,\n",
       " 751.2236896667,\n",
       " 611.3200641666999,\n",
       " 0,\n",
       " 8.46994183333,\n",
       " 45.3963998333,\n",
       " 116.8988095,\n",
       " 489.7736965,\n",
       " 105.24544450007,\n",
       " 0,\n",
       " 294.34356566670004,\n",
       " 272.16654083369997,\n",
       " 1245.8182150003,\n",
       " 187.25140866697,\n",
       " 0,\n",
       " 18.9512853333,\n",
       " 507.1024986672999,\n",
       " 932.3012898327,\n",
       " 330.1826238337,\n",
       " 40.220247,\n",
       " 931.3838908327,\n",
       " 0,\n",
       " 467.5716475007,\n",
       " 704.5008775003,\n",
       " 197.41214399993,\n",
       " 9.75699783333,\n",
       " 1168.2526861667002,\n",
       " 197.0435864997,\n",
       " 366.5285674997,\n",
       " 0,\n",
       " 18.576384666670002,\n",
       " 101.1193401667,\n",
       " 0,\n",
       " 11.554518,\n",
       " 754.5790381659999,\n",
       " 513.8126981664001,\n",
       " 893.4411686660001,\n",
       " 201.21822283370003,\n",
       " 405.0228675003,\n",
       " 2050.1156751667004,\n",
       " 544.992658666,\n",
       " 52.9136506667,\n",
       " 545.9623025,\n",
       " 653.1940411656001,\n",
       " 382.93037050067,\n",
       " 438.5049581666,\n",
       " 432.987765666,\n",
       " 0,\n",
       " 56.835209,\n",
       " 736.9791355,\n",
       " 0,\n",
       " 180.025886167,\n",
       " 230.70437450010002,\n",
       " 396.82058733329995,\n",
       " 80.2133103333,\n",
       " 1196.803629999,\n",
       " 0,\n",
       " 0,\n",
       " 696.2475044997,\n",
       " 34.1685658333,\n",
       " 613.2567715002999,\n",
       " 1017.1034851664001,\n",
       " 591.1435670003,\n",
       " 414.253240333,\n",
       " 86.4587005,\n",
       " 90.3995656667,\n",
       " 32.447970500029996,\n",
       " 640.0351108333,\n",
       " 0,\n",
       " 586.7405209996,\n",
       " 943.188117167,\n",
       " 0,\n",
       " 430.801675833,\n",
       " 1579.12122666663,\n",
       " 447.93897783336996,\n",
       " 931.1036911666699,\n",
       " 657.2052335000001,\n",
       " 1591.3228143334,\n",
       " 766.256315667,\n",
       " 556.1906033333,\n",
       " 500.9127926667,\n",
       " 57.2638435,\n",
       " 741.2804391669999,\n",
       " 611.4195701674,\n",
       " 604.355107166,\n",
       " 0,\n",
       " 0,\n",
       " 239.61664966700002,\n",
       " 36.434234,\n",
       " 364.480768,\n",
       " 59.7725306667,\n",
       " 203.3427993337,\n",
       " 391.3939735,\n",
       " 0,\n",
       " 4.24015233333,\n",
       " 0,\n",
       " 532.5829673333,\n",
       " 197.066153,\n",
       " 506.55911883299996,\n",
       " 30.5476253333,\n",
       " 803.3391453328,\n",
       " 65.9101326667,\n",
       " 0,\n",
       " 384.69492683359994,\n",
       " 3.3318835,\n",
       " 427.5369333332,\n",
       " 0,\n",
       " 63.79716583327,\n",
       " 34.50448516667,\n",
       " 0,\n",
       " 2.17768916667,\n",
       " 808.5665558337,\n",
       " 537.5285965007,\n",
       " 293.4918854997,\n",
       " 106.2245978334,\n",
       " 227.6363853331,\n",
       " 0,\n",
       " 1035.306503999,\n",
       " 752.4780518326,\n",
       " 500.4921706667001,\n",
       " 68.0673978333,\n",
       " 146.9410850001,\n",
       " 417.953548167,\n",
       " 397.8826263333,\n",
       " 104.20388850009999,\n",
       " 77.7392298333,\n",
       " 9.64132116667,\n",
       " 0,\n",
       " 535.00554450033,\n",
       " 2.4822425,\n",
       " 762.169280667,\n",
       " 712.1588875006701,\n",
       " 122.48917700033,\n",
       " 321.2057135,\n",
       " 693.148515833,\n",
       " 84.6351145,\n",
       " 4.56274816667,\n",
       " 669.9961104997,\n",
       " 123.5804105,\n",
       " 277.3369746671,\n",
       " 288.9210591667,\n",
       " 0,\n",
       " 46.605140666699995,\n",
       " 554.59261383367,\n",
       " 108.47527400000001,\n",
       " 877.8003651663,\n",
       " 183.134135333,\n",
       " 86.7824926667,\n",
       " 231.0283105,\n",
       " 980.5763799994,\n",
       " 493.53649199967003,\n",
       " 143.78600349967,\n",
       " 626.2345113327,\n",
       " 4.26499566667,\n",
       " 265.47810483300003,\n",
       " 62.84829066659999,\n",
       " 1381.1028195004,\n",
       " 454.17951166700004,\n",
       " 0,\n",
       " 943.8555468324001,\n",
       " 204.02415449966998,\n",
       " 557.5625511664,\n",
       " 1047.4820013337,\n",
       " 95.1225038333,\n",
       " 0,\n",
       " 1026.8480728333,\n",
       " 1096.72738949933,\n",
       " 79.9306696666,\n",
       " 374.365616,\n",
       " 514.86060716603,\n",
       " 141.19407999967,\n",
       " 438.50690233336,\n",
       " 27.37808133337,\n",
       " 547.552952834,\n",
       " 913.6758890002999,\n",
       " 783.3383063341,\n",
       " 570.776941833,\n",
       " 1051.5771371676,\n",
       " 2375.7954986677,\n",
       " 414.12743866659997,\n",
       " 12.9807116667,\n",
       " 589.8798286670001,\n",
       " 1887.391213833,\n",
       " 586.7042849994001,\n",
       " 42.35008283337,\n",
       " 418.01940599970004,\n",
       " 517.8334496674,\n",
       " 310.2486779997,\n",
       " 146.89298433300002,\n",
       " 95.4642313333,\n",
       " 651.9806806667,\n",
       " 601.3632028330001,\n",
       " 736.4371648339999,\n",
       " 114.84451633329999,\n",
       " 0,\n",
       " 479.86306116670005,\n",
       " 6.20617616667,\n",
       " 1251.6466043334,\n",
       " 629.3766914993301,\n",
       " 247.9964674996,\n",
       " 1346.7158483327,\n",
       " 0,\n",
       " 130.12347833367,\n",
       " 1013.3833969996999,\n",
       " 179.4719088333,\n",
       " 983.375040335,\n",
       " 65.6221875,\n",
       " 235.49969150033,\n",
       " 119.12030049999998,\n",
       " 0,\n",
       " 155.1361575,\n",
       " 235.39055499926997,\n",
       " 1403.366643835,\n",
       " 0,\n",
       " 397.24734133329997,\n",
       " 859.426280833,\n",
       " 0,\n",
       " 1426.2515225012999,\n",
       " 355.96292199997,\n",
       " 1669.9007213329999,\n",
       " 370.8747679997,\n",
       " 61.0835323333,\n",
       " 667.7495933323299,\n",
       " 638.196504333,\n",
       " 0,\n",
       " 448.5325424996,\n",
       " 605.7708455,\n",
       " 219.2389440004,\n",
       " 315.34049566659996,\n",
       " 686.7681608344001,\n",
       " 114.39214366666,\n",
       " 633.1473566663,\n",
       " 4.55604183333,\n",
       " 356.77551816640005,\n",
       " 231.80801666640002,\n",
       " 186.549237333,\n",
       " 20.8106506667,\n",
       " 90.48065633329999,\n",
       " 0,\n",
       " 704.5521115003299,\n",
       " 53.5545175,\n",
       " 310.04241416702996,\n",
       " 416.49598383333,\n",
       " 0,\n",
       " 299.9208106657,\n",
       " 383.99752900006996,\n",
       " 0,\n",
       " 198.6962631669,\n",
       " 1036.951593167,\n",
       " 183.7893518334,\n",
       " 440.96130916723,\n",
       " 20.879544833329998,\n",
       " 41.7786686667,\n",
       " 0,\n",
       " 1421.7436063333,\n",
       " 307.7543378337,\n",
       " 989.113641833,\n",
       " 769.207330667,\n",
       " 32.0522478333,\n",
       " 399.2498304993,\n",
       " 106.08401216677001,\n",
       " 266.1378745,\n",
       " 285.36239183329997,\n",
       " 530.1415103337,\n",
       " 0,\n",
       " 51.0695815,\n",
       " 1410.5316330013002,\n",
       " 33.4956098333,\n",
       " 334.5606256663,\n",
       " 743.1407118340001,\n",
       " 0,\n",
       " 80.6559995,\n",
       " 0,\n",
       " 722.84210483367,\n",
       " 22.14904683337,\n",
       " 951.118714666,\n",
       " 0,\n",
       " 55.49376599997,\n",
       " 578.9502861663,\n",
       " 385.2513571667001,\n",
       " 209.96127933370002,\n",
       " 6.72066133333,\n",
       " 367.3854126667,\n",
       " 343.6706583329,\n",
       " 196.3044158337,\n",
       " 888.6124170002998,\n",
       " 59.239222,\n",
       " 843.170594833,\n",
       " 2778.3161446706704,\n",
       " 1735.943607166,\n",
       " 657.0126268326,\n",
       " 1341.720517667,\n",
       " 1217.1688571673,\n",
       " 448.741092333,\n",
       " 0,\n",
       " 817.9997333323399,\n",
       " 42.3843405,\n",
       " 23.55166316667,\n",
       " 220.21062866679998,\n",
       " 0,\n",
       " 37.6347753333,\n",
       " 58.3151085,\n",
       " 0,\n",
       " 677.2790736659999,\n",
       " 1053.7764165013,\n",
       " 51.9296121667,\n",
       " 0,\n",
       " 73.6446115,\n",
       " 212.1774728337,\n",
       " 925.7537420007,\n",
       " 446.4724451667,\n",
       " 0,\n",
       " 0,\n",
       " 1208.05215466633,\n",
       " 131.7464566667,\n",
       " 176.3818004999,\n",
       " 277.8489021664,\n",
       " 908.4660900005999,\n",
       " 298.253430333,\n",
       " 28.5667518333,\n",
       " 414.14088366667,\n",
       " 924.2469394994,\n",
       " 907.111293668,\n",
       " 0,\n",
       " 173.9382718334,\n",
       " 120.55847799993,\n",
       " 911.11994133237,\n",
       " 400.8135763341,\n",
       " 0,\n",
       " 0,\n",
       " 496.99219366667,\n",
       " 293.383122167,\n",
       " 736.3565788330001,\n",
       " 346.5030268336,\n",
       " 422.27366000010005,\n",
       " 6.95969283333,\n",
       " 856.8375048337,\n",
       " 0,\n",
       " 0,\n",
       " 284.6907063333,\n",
       " 175.613687167,\n",
       " 0,\n",
       " 39.485681500000005,\n",
       " 600.5757328336,\n",
       " 221.72389316627002,\n",
       " 8.3032715,\n",
       " 635.5124964993,\n",
       " 736.5973803337,\n",
       " 307.0653258337,\n",
       " 75.8750386667,\n",
       " 92.3539813334,\n",
       " 388.7726185,\n",
       " 459.3740381662999,\n",
       " 504.04492916670006,\n",
       " 2.8138905,\n",
       " 229.2620115,\n",
       " 32.8227305,\n",
       " 394.5387589999,\n",
       " 237.7646521667,\n",
       " 84.558989,\n",
       " 1689.189059835,\n",
       " 266.32487266671006,\n",
       " 224.91582050030001,\n",
       " 169.3917738333,\n",
       " 89.0572956666,\n",
       " 53.1803671667,\n",
       " 503.05470083299997,\n",
       " 207.27739616670002,\n",
       " 131.94636750003,\n",
       " 89.6344988334,\n",
       " 116.03298466660002,\n",
       " 633.4301786670001,\n",
       " 749.194206334,\n",
       " 26.5587726667,\n",
       " 120.87673000033001,\n",
       " 92.5594045,\n",
       " 765.55279683203,\n",
       " 962.5736773336,\n",
       " 0,\n",
       " 0,\n",
       " 630.1675615003,\n",
       " 531.8882431671,\n",
       " 532.6464248333,\n",
       " 3564.7332644989997,\n",
       " 449.6269801663,\n",
       " 223.73943383300002,\n",
       " 80.5941101667,\n",
       " 448.471384167,\n",
       " 73.5741316667,\n",
       " 179.4080511666,\n",
       " 264.5287276666,\n",
       " 700.4743598327,\n",
       " 129.1323983333,\n",
       " 105.06483083340001,\n",
       " 64.7772518334,\n",
       " 944.5557876659999,\n",
       " 609.2861186673,\n",
       " 122.07255516670001,\n",
       " 729.8468485,\n",
       " 320.97561616674,\n",
       " 107.74437683336001,\n",
       " 2530.5614099997,\n",
       " 71.4977216667,\n",
       " 58.36346116669999,\n",
       " 0,\n",
       " 30.3670653333,\n",
       " 662.64059800003,\n",
       " 168.3080953333,\n",
       " 836.3458141666999,\n",
       " 421.2835453327,\n",
       " 593.1472776666001,\n",
       " 576.4643026663,\n",
       " 2393.5421573319004,\n",
       " 272.6840003337,\n",
       " 1309.1846301673,\n",
       " 955.78319766497,\n",
       " 4.58531166667,\n",
       " 33.3214046667,\n",
       " 0,\n",
       " 255.53718516670003,\n",
       " 269.194508,\n",
       " 570.5658495,\n",
       " 109.141489,\n",
       " 302.608719833,\n",
       " 283.36202233326,\n",
       " 195.9300631667,\n",
       " 739.8981633335999,\n",
       " 150.810125167,\n",
       " 417.4064971669,\n",
       " 42.4569508333,\n",
       " 0,\n",
       " 638.934161833,\n",
       " 211.5840809997,\n",
       " 1420.1479191659998,\n",
       " 371.26458716729996,\n",
       " 110.09569266679999,\n",
       " 322.475557667,\n",
       " 314.3331800003,\n",
       " 47.1679638333,\n",
       " 1024.109326834,\n",
       " 589.6171318323301,\n",
       " 427.764673834,\n",
       " 91.3514995,\n",
       " 106.72208133333001,\n",
       " 0,\n",
       " 595.2719906673,\n",
       " 401.97479050029995,\n",
       " 3.22752383333,\n",
       " 30.6256575,\n",
       " 0,\n",
       " 629.7823334996999,\n",
       " 465.58233333400005,\n",
       " 455.19857933369997,\n",
       " 422.6295078334,\n",
       " 594.0435458336,\n",
       " 1896.7540938320003,\n",
       " 745.1146233329999,\n",
       " 172.5712248333,\n",
       " 7.1116735,\n",
       " 68.4192841666,\n",
       " 491.9087078335,\n",
       " 167.606683,\n",
       " 343.35795733340007,\n",
       " 129.2449371666,\n",
       " 886.0703749999001,\n",
       " 169.159592167,\n",
       " 1214.55291799937,\n",
       " 83.7769855,\n",
       " 0,\n",
       " 672.9427816664,\n",
       " 891.8733579995999,\n",
       " 0,\n",
       " 726.26075933267,\n",
       " 609.6590520007001,\n",
       " 663.5424139989,\n",
       " 357.275143834,\n",
       " 96.80278150000001,\n",
       " 127.15142850000001,\n",
       " 311.1889536663,\n",
       " 975.587918167,\n",
       " 0,\n",
       " 413.5420181666,\n",
       " 0,\n",
       " 554.8758693333999,\n",
       " 150.7999871667,\n",
       " 88.12990766662999,\n",
       " 669.9500983341,\n",
       " 165.37368716699999,\n",
       " 2700.4878774989998,\n",
       " 194.7560403337,\n",
       " 538.88974533303,\n",
       " 0,\n",
       " 4.19664316667,\n",
       " 924.060058833,\n",
       " 247.9447956666,\n",
       " 0,\n",
       " 28.9028346666,\n",
       " 1477.0239483322998,\n",
       " 52.1289673334,\n",
       " 61.7853381666,\n",
       " 52.4319528333,\n",
       " 326.448714,\n",
       " 21.972605,\n",
       " 18.4937245,\n",
       " 518.1875990003,\n",
       " 133.319127167,\n",
       " 321.3727448333,\n",
       " 131.7264965,\n",
       " 360.4108591662,\n",
       " 485.78090949999995,\n",
       " 439.05929566669994,\n",
       " 247.9695998334,\n",
       " 30.647238166630004,\n",
       " 151.60938049966,\n",
       " 241.8322233337,\n",
       " 178.70479883369998,\n",
       " 467.6978279993,\n",
       " 186.94018933324,\n",
       " 258.849289167,\n",
       " 137.9929768333,\n",
       " 218.3752333334,\n",
       " 1890.9937024994,\n",
       " 547.7397464997,\n",
       " 456.3332818333,\n",
       " 0,\n",
       " 24.87366349997,\n",
       " 207.9139188337,\n",
       " 615.9597956661,\n",
       " 0,\n",
       " 0,\n",
       " 388.23059683327006,\n",
       " 73.7238143333,\n",
       " 248.29428850003,\n",
       " 884.7240451653,\n",
       " 177.5920131668,\n",
       " 100.837620167,\n",
       " 12.05914466667,\n",
       " 1055.6871896667,\n",
       " 0,\n",
       " 26.1189351667,\n",
       " 107.3523146666,\n",
       " 0,\n",
       " 0,\n",
       " 240.5959745003,\n",
       " 88.822038,\n",
       " 478.21952616690004,\n",
       " 511.925391,\n",
       " 52.90383883333,\n",
       " 329.7578566663,\n",
       " 416.14186616669997,\n",
       " 829.9734088337,\n",
       " 101.401498833,\n",
       " 551.1900968329701,\n",
       " 188.8958254999,\n",
       " 411.84511316623,\n",
       " 18.786721,\n",
       " 716.3825241659999,\n",
       " 29.5289625001,\n",
       " 599.325108667,\n",
       " 0,\n",
       " 174.4431463334,\n",
       " 0,\n",
       " 68.2496686666,\n",
       " 46.6148,\n",
       " 779.5860966676,\n",
       " 285.75573750030003,\n",
       " 164.161086,\n",
       " 4.45095966667,\n",
       " 316.43186650009994]"
      ]
     },
     "execution_count": 28,
     "metadata": {},
     "output_type": "execute_result"
    }
   ],
   "source": [
    "######################################\n",
    "#                 12                 #\n",
    "######################################\n",
    "\n",
    "## Compute some metrics you're interested in and see how they differ for\n",
    "## students who pass the subway project vs. students who don't. A good\n",
    "## starting point would be the metrics we looked at earlier (minutes spent\n",
    "## in the classroom, lessons completed, and days visited).\n",
    "\n",
    "mins_pass.values()\n"
   ]
  },
  {
   "cell_type": "markdown",
   "metadata": {},
   "source": [
    "## Making Histograms"
   ]
  },
  {
   "cell_type": "code",
   "execution_count": 33,
   "metadata": {
    "collapsed": false
   },
   "outputs": [],
   "source": [
    "######################################\n",
    "#                 13                 #\n",
    "######################################\n",
    "\n",
    "## Make histograms of the three metrics we looked at earlier for both\n",
    "## students who passed the subway project and students who didn't. You\n",
    "## might also want to make histograms of any other metrics you examined.\n",
    "\n",
    "import seaborn as sns\n",
    "import matplotlib.pyplot as plt"
   ]
  },
  {
   "cell_type": "code",
   "execution_count": 43,
   "metadata": {
    "collapsed": false
   },
   "outputs": [
    {
     "data": {
      "image/png": "[encoded data removed]",
      "text/plain": [
       "<matplotlib.figure.Figure at 0x10c5f9d90>"
      ]
     },
     "metadata": {},
     "output_type": "display_data"
    }
   ],
   "source": [
    "data = [x for x in mins_pass.values()]\n",
    "data\n",
    "plt.hist(data)\n",
    "plt.show()"
   ]
  },
  {
   "cell_type": "code",
   "execution_count": 44,
   "metadata": {
    "collapsed": false
   },
   "outputs": [
    {
     "data": {
      "image/png": "[encoded data removed]",
      "text/plain": [
       "<matplotlib.figure.Figure at 0x109f78450>"
      ]
     },
     "metadata": {},
     "output_type": "display_data"
    }
   ],
   "source": [
    "data = [x for x in mins_no_pass.values()]\n",
    "data\n",
    "plt.hist(data)\n",
    "plt.show()"
   ]
  },
  {
   "cell_type": "code",
   "execution_count": 45,
   "metadata": {
    "collapsed": false
   },
   "outputs": [
    {
     "data": {
      "image/png": "[encoded data removed]",
      "text/plain": [
       "<matplotlib.figure.Figure at 0x10a067090>"
      ]
     },
     "metadata": {},
     "output_type": "display_data"
    }
   ],
   "source": [
    "data = [x for x in lessons_pass.values()]\n",
    "data\n",
    "plt.hist(data)\n",
    "plt.show()"
   ]
  },
  {
   "cell_type": "code",
   "execution_count": 46,
   "metadata": {
    "collapsed": false
   },
   "outputs": [
    {
     "data": {
      "image/png": "[encoded data removed]",
      "text/plain": [
       "<matplotlib.figure.Figure at 0x10a11f390>"
      ]
     },
     "metadata": {},
     "output_type": "display_data"
    }
   ],
   "source": [
    "data = [x for x in lessons_no_pass.values()]\n",
    "data\n",
    "plt.hist(data)\n",
    "plt.show()"
   ]
  },
  {
   "cell_type": "code",
   "execution_count": 47,
   "metadata": {
    "collapsed": false
   },
   "outputs": [
    {
     "data": {
      "image/png": "[encoded data removed]",
      "text/plain": [
       "<matplotlib.figure.Figure at 0x10c882ad0>"
      ]
     },
     "metadata": {},
     "output_type": "display_data"
    }
   ],
   "source": [
    "data = [x for x in days_pass.values()]\n",
    "data\n",
    "plt.hist(data)\n",
    "plt.show()"
   ]
  },
  {
   "cell_type": "code",
   "execution_count": 48,
   "metadata": {
    "collapsed": false
   },
   "outputs": [
    {
     "data": {
      "image/png": "[encoded data removed]",
      "text/plain": [
       "<matplotlib.figure.Figure at 0x10ca18750>"
      ]
     },
     "metadata": {},
     "output_type": "display_data"
    }
   ],
   "source": [
    "data = [x for x in days_no_pass.values()]\n",
    "data\n",
    "plt.hist(data)\n",
    "plt.show()"
   ]
  },
  {
   "cell_type": "markdown",
   "metadata": {},
   "source": [
    "## Improving Plots and Sharing Findings"
   ]
  },
  {
   "cell_type": "code",
   "execution_count": 42,
   "metadata": {
    "collapsed": false
   },
   "outputs": [],
   "source": [
    "######################################\n",
    "#                 14                 #\n",
    "######################################\n",
    "\n",
    "## Make a more polished version of at least one of your visualizations\n",
    "## from earlier. Try importing the seaborn library to make the visualization\n",
    "## look better, adding axis labels and a title, and changing one or more\n",
    "## arguments to the hist() function.\n",
    "\n"
   ]
  },
  {
   "cell_type": "code",
   "execution_count": null,
   "metadata": {
    "collapsed": true
   },
   "outputs": [],
   "source": []
  }
 ],
 "metadata": {
  "kernelspec": {
   "display_name": "Python 2",
   "language": "python",
   "name": "python2"
  },
  "language_info": {
   "codemirror_mode": {
    "name": "ipython",
    "version": 2
   },
   "file_extension": ".py",
   "mimetype": "text/x-python",
   "name": "python",
   "nbconvert_exporter": "python",
   "pygments_lexer": "ipython2",
   "version": "2.7.11"
  }
 },
 "nbformat": 4,
 "nbformat_minor": 0
}
