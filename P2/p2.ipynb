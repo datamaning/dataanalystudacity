{
 "cells": [
  {
   "cell_type": "markdown",
   "metadata": {},
   "source": [
    "# Baseball Career Arc\n",
    "### by: Darren Liu\n",
    "\n",
    "### Objective\n",
    "> I want to look at the development of a batter through his career. This is motivated by PECOTA, invented by Nate Silver in 2003, as a sophisticated method of forecasting player output for the upcoming season. I intend to perform a simplified version of the study and look at batter performance trends as a function of player age. Intuition would lead us to expect a trend of player improvement from a young age, reaching a pinnacle at some point, and a decline henceforth. Batter performance shall be determined by On-Base-Percentage, or OBP, a popular metric in measuring batter value.\n",
    "\n",
    "### Question\n",
    "> Is there a consistent relationship between player age and change in performance? If so, what does the relationship look like and how much of an improvement can one expect the inclusion of its consideration to help in terms of forecasting next period performances."
   ]
  },
  {
   "cell_type": "code",
   "execution_count": 1,
   "metadata": {
    "collapsed": false
   },
   "outputs": [],
   "source": [
    "# initial setup\n",
    "import warnings\n",
    "warnings.filterwarnings(\"ignore\")\n",
    "\n",
    "import unicodecsv\n",
    "import scipy.stats as sts\n",
    "import pandas as pd\n",
    "import numpy as np\n",
    "import matplotlib.pyplot as plt\n",
    "import seaborn as sns\n",
    "import statsmodels.formula.api as sm\n",
    "\n",
    "%matplotlib inline"
   ]
  },
  {
   "cell_type": "code",
   "execution_count": 2,
   "metadata": {
    "collapsed": false
   },
   "outputs": [],
   "source": [
    "# relevant data\n",
    "master = pd.read_csv('datasets/Master.csv')\n",
    "batting_dat = pd.read_csv('datasets/Batting.csv')"
   ]
  },
  {
   "cell_type": "code",
   "execution_count": 3,
   "metadata": {
    "collapsed": false,
    "scrolled": true
   },
   "outputs": [
    {
     "name": "stdout",
     "output_type": "stream",
     "text": [
      "\n",
      "Is Intentional Walks (IBB) a subset of Walks (BB):\n",
      "\n",
      "True\n",
      "\n",
      "\n",
      "\n",
      "Show non-unique observations under grouping player-year-team-stint\n",
      "\n",
      "Empty DataFrame\n",
      "Columns: [playerID, yearID, stint, teamID, lgID, G, AB, R, H, 2B, 3B, HR, RBI, SB, CS, BB, SO, IBB, HBP, SH, SF, GIDP]\n",
      "Index: []\n",
      "\n",
      "[0 rows x 22 columns]\n"
     ]
    }
   ],
   "source": [
    "# check data properties\n",
    "print \"\\nIs Intentional Walks (IBB) a subset of Walks (BB):\\n\"\n",
    "print all(batting_dat.dropna(0, 'any')['BB'] >= batting_dat.dropna(0, 'any')['IBB'])\n",
    "print \"\\n\"\n",
    "\n",
    "# Find keys for player stats table\n",
    "print \"\\nShow non-unique observations under grouping player-year-team-stint\\n\"\n",
    "print batting_dat.groupby(['playerID', 'yearID', 'teamID', 'stint']).filter(lambda x: len(x) > 1).head()"
   ]
  },
  {
   "cell_type": "markdown",
   "metadata": {},
   "source": [
    "### Data Wrangling\n",
    "\n",
    "Some observations and intuitions form the following tasks to complete and how I anticipate to deal with them:\n",
    "\n",
    "#### Form new variables of interest\n",
    "\n",
    "> On Base Percentage (OBP) is a measure of how often a batter reaches base. It is approximately equal to Times on Base/Plate appearances. The full formula is:\n",
    ">\n",
    "> $$ On\\,Base\\,Percentage = \\frac{Hits + Walks + Hit\\,by\\,Pitch}{At\\,Bats + Walks + Hit\\,by\\,Pitch + Sacrifice\\,Flies} $$\n",
    ">\n",
    ">> The corresponding column names to the stated variables are as such:\n",
    ">>\n",
    ">> Hits = H, Walks = BB (IBB is found to be a subset of BB), Hit by pitch = HBP, At Bats = AB, Sacrifice flies = SF\n",
    "\n",
    "> Change in player performance from year-to-year. It will be measured in nominal terms. Players that miss a season will have change for the following season marked as NaN.\n",
    "\n",
    "#### Group data by age\n",
    "> As observed earlier, players can play on multiple teams and its sequence marked by stint. It is probably best to ignore those differences and simply group by player-age since its effect on our choice of response variable is uncertain and most likely trivial. Age is going to be simply defined as year of the data minus player's year of birth\n",
    "\n",
    "#### Examine anomalies and perhaps remedy them\n",
    "> It is most likely unexpected problems will arise, although it is best to thoroughly understand data behavior, for the sake of the scope of this assignment I will choose to ignore them if it is not a crime to. "
   ]
  },
  {
   "cell_type": "code",
   "execution_count": 4,
   "metadata": {
    "collapsed": false,
    "scrolled": true
   },
   "outputs": [],
   "source": [
    "# batting data\n",
    "batting_pre_1 = master.merge(batting_dat, on='playerID')[\n",
    "    ['playerID', 'nameFirst', 'nameLast', 'yearID', 'birthYear', 'H', 'BB', 'HBP', 'AB', 'SF']\n",
    "]\n",
    "batting_pre_1['AGE'] = batting_pre_1['yearID'] - batting_pre_1['birthYear']"
   ]
  },
  {
   "cell_type": "code",
   "execution_count": 5,
   "metadata": {
    "collapsed": false,
    "scrolled": true
   },
   "outputs": [
    {
     "data": {
      "text/plain": [
       "<matplotlib.text.Text at 0x10abc7210>"
      ]
     },
     "execution_count": 5,
     "metadata": {},
     "output_type": "execute_result"
    },
    {
     "data": {
      "image/png": "[encoded data removed]",
      "text/plain": [
       "<matplotlib.figure.Figure at 0x10bc50b10>"
      ]
     },
     "metadata": {},
     "output_type": "display_data"
    }
   ],
   "source": [
    "# check data properties\n",
    "batting_pre_1.groupby('AGE')['playerID'].count().plot(\n",
    "    title = 'Historic age distribution of players'\n",
    ")\n",
    "plt.ylabel('Frequency')"
   ]
  },
  {
   "cell_type": "markdown",
   "metadata": {},
   "source": [
    "> There are some ages that don't make sense, most obviously the negatives."
   ]
  },
  {
   "cell_type": "code",
   "execution_count": 6,
   "metadata": {
    "collapsed": false
   },
   "outputs": [],
   "source": [
    "# A quick google reveals the historical range of MLB player age to be between 15 and 49 years old\n",
    "# It is uncertain why the age anomalies exist\n",
    "# but due to rarity of ocurrence we will simply remove the data points outside of this range\n",
    "batting_pre_1 = batting_pre_1.loc[batting_pre_1['AGE'].isin(range(16, 49))]"
   ]
  },
  {
   "cell_type": "code",
   "execution_count": 7,
   "metadata": {
    "collapsed": false
   },
   "outputs": [],
   "source": [
    "batting_pre_1['NAME'] = batting_pre_1['nameFirst'] + \" \" + batting_pre_1['nameLast']\n",
    "batting_pre_2 = batting_pre_1.groupby(['playerID', 'NAME', 'AGE'])[['H', 'BB', 'HBP', 'AB', 'SF']].sum()\n",
    "# Create new variables\n",
    "batting_pre_2['OBP'] = batting_pre_2[['H','BB','HBP']].sum(axis=1) / batting_pre_2[['AB','BB','HBP','SF']].sum(axis=1)"
   ]
  },
  {
   "cell_type": "code",
   "execution_count": 8,
   "metadata": {
    "collapsed": false
   },
   "outputs": [
    {
     "name": "stdout",
     "output_type": "stream",
     "text": [
      "\n",
      "Descriptives of OBP before eliminating observations of n < 30\n",
      "\n",
      "count    79818.000000\n",
      "mean         0.266744\n",
      "std          0.136441\n",
      "min          0.000000\n",
      "25%          0.200000\n",
      "50%          0.291815\n",
      "75%          0.340483\n",
      "max          1.000000\n",
      "Name: OBP, dtype: float64\n"
     ]
    },
    {
     "data": {
      "text/plain": [
       "<matplotlib.text.Text at 0x10abbdad0>"
      ]
     },
     "execution_count": 8,
     "metadata": {},
     "output_type": "execute_result"
    },
    {
     "data": {
      "image/png": "[encoded data removed]",
      "text/plain": [
       "<matplotlib.figure.Figure at 0x102672390>"
      ]
     },
     "metadata": {},
     "output_type": "display_data"
    }
   ],
   "source": [
    "print \"\\nDescriptives of OBP before eliminating observations of n < 30\\n\"\n",
    "print batting_pre_2['OBP'].describe()\n",
    "batting_pre_2['OBP'].plot(\n",
    "    kind = 'hist',\n",
    "    title = \"Histogram of OBP and players\"\n",
    ")\n",
    "plt.xlabel('OBP')"
   ]
  },
  {
   "cell_type": "markdown",
   "metadata": {},
   "source": [
    "> The span of 0 and 1 OBP covers the entire probability space. The extreme values are most likely a consequence of small sample size. To overcome the problem of unreliable data points, I will choose to only allow player-age data with 30 or more observations. \n"
   ]
  },
  {
   "cell_type": "code",
   "execution_count": 9,
   "metadata": {
    "collapsed": false
   },
   "outputs": [],
   "source": [
    "# Create weight of observation\n",
    "batting_pre_2['W'] = batting_pre_2[['AB','BB','HBP','SF']].sum(axis=1)\n",
    "\n",
    "# Remove data points where sample size (W) is less than 30\n",
    "batting_pre_3 = batting_pre_2.loc[batting_pre_2['W'] >= 30]"
   ]
  },
  {
   "cell_type": "code",
   "execution_count": 10,
   "metadata": {
    "collapsed": false
   },
   "outputs": [
    {
     "name": "stdout",
     "output_type": "stream",
     "text": [
      "\n",
      "Descriptives of OBP after eliminating observations of n < 30\n",
      "\n",
      "count    55435.000000\n",
      "mean         0.297742\n",
      "std          0.071948\n",
      "min          0.000000\n",
      "25%          0.259259\n",
      "50%          0.309091\n",
      "75%          0.346431\n",
      "max          0.609400\n",
      "Name: OBP, dtype: float64\n"
     ]
    },
    {
     "data": {
      "text/plain": [
       "<matplotlib.text.Text at 0x10aab9dd0>"
      ]
     },
     "execution_count": 10,
     "metadata": {},
     "output_type": "execute_result"
    },
    {
     "data": {
      "image/png": "[encoded data removed]",
      "text/plain": [
       "<matplotlib.figure.Figure at 0x10db80450>"
      ]
     },
     "metadata": {},
     "output_type": "display_data"
    }
   ],
   "source": [
    "print \"\\nDescriptives of OBP after eliminating observations of n < 30\\n\"\n",
    "print batting_pre_3['OBP'].describe()\n",
    "batting_pre_3['OBP'].plot(\n",
    "    kind = 'hist',\n",
    "    title = \"Histogram of OBP and players\"\n",
    ")\n",
    "plt.xlabel('OBP')"
   ]
  },
  {
   "cell_type": "markdown",
   "metadata": {},
   "source": [
    "> The sample size filter appears to be a good move. The highly improbable max of 1 has dropped to 0.61. Variability also dropped substantially. The median is relatively unchanged. The distribution now seems to resemble more of a left-skewed distribution"
   ]
  },
  {
   "cell_type": "code",
   "execution_count": 11,
   "metadata": {
    "collapsed": true
   },
   "outputs": [],
   "source": [
    "# Create variable of change from previous year\n",
    "batting_pre_3['CHG'] = batting_pre_3['OBP'] - batting_pre_3.groupby(level=0)['OBP'].shift(1)"
   ]
  },
  {
   "cell_type": "code",
   "execution_count": 12,
   "metadata": {
    "collapsed": false,
    "scrolled": true
   },
   "outputs": [
    {
     "name": "stdout",
     "output_type": "stream",
     "text": [
      "\n",
      "Check for NaNs\n",
      "\n",
      "W column has NaN values: False\n",
      "OBP column has NaN values: False\n",
      "CHG column has NaN values: True\n"
     ]
    }
   ],
   "source": [
    "# check data properties\n",
    "# all(batting_pre_3['W'] != 0 | batting_pre_3['OBP'].isnull()) # not necessary after eliminating rows with n < 30\n",
    "print \"\\nCheck for NaNs\\n\"\n",
    "print \"W column has NaN values: \" + str(any(batting_pre_3['W'].isnull())) # W has no null values\n",
    "print \"OBP column has NaN values: \" + str(any(batting_pre_3['OBP'].isnull())) # OBP has no null values\n",
    "print \"CHG column has NaN values: \" + str(any(batting_pre_3['CHG'].isnull())) # CHG has no null values"
   ]
  },
  {
   "cell_type": "markdown",
   "metadata": {},
   "source": [
    "### Discussion on NA\n",
    "> Although CHG is shown to have NaN, it is not missing any data. Remember, CHG is a difference variable created by taking the difference of a player-age-OBP at time t and subtracting it from player-age-OBP at time t - 1. Therefore, given we saw that OBP has no null values, the only scenario where CHG has a null value is for the first year of player's career. Below is a confirmation of this fact"
   ]
  },
  {
   "cell_type": "code",
   "execution_count": 13,
   "metadata": {
    "collapsed": false
   },
   "outputs": [
    {
     "name": "stdout",
     "output_type": "stream",
     "text": [
      "\n",
      "Players with NaN\n",
      "\n",
      "10439\n",
      "\n",
      "Players with more than one NaN\n",
      "\n",
      "Empty DataFrame\n",
      "Columns: [playerID, NAME, AGE, H, BB, HBP, AB, SF, OBP, W, CHG]\n",
      "Index: []\n",
      "\n",
      "Total players\n",
      "\n",
      "10439\n"
     ]
    }
   ],
   "source": [
    "print \"\\nPlayers with NaN\\n\"\n",
    "print batting_pre_3[batting_pre_3['CHG'].isnull()].reset_index().playerID.nunique()\n",
    "print \"\\nPlayers with more than one NaN\\n\"\n",
    "print batting_pre_3[batting_pre_3['CHG'].isnull()].reset_index().groupby('playerID').filter(lambda x: len(x) > 1).head()\n",
    "print \"\\nTotal players\\n\"\n",
    "print batting_pre_3.reset_index().playerID.nunique()"
   ]
  },
  {
   "cell_type": "code",
   "execution_count": 14,
   "metadata": {
    "collapsed": false,
    "scrolled": true
   },
   "outputs": [
    {
     "name": "stdout",
     "output_type": "stream",
     "text": [
      "\n",
      "Descriptives of dataset variables\n",
      "\n",
      "                AGE             W           OBP           CHG\n",
      "count  55435.000000  55435.000000  55435.000000  44996.000000\n",
      "mean      28.483251    279.578407      0.297742     -0.001008\n",
      "std        4.256923    212.849438      0.071948      0.057183\n",
      "min       16.000000     30.000000      0.000000     -0.324876\n",
      "25%       25.000000     80.000000      0.259259     -0.034033\n",
      "50%       28.000000    223.000000      0.309091     -0.001520\n",
      "75%       31.000000    469.000000      0.346431      0.031650\n",
      "max       48.000000    778.000000      0.609400      0.361574\n"
     ]
    }
   ],
   "source": [
    "batting = batting_pre_3.reset_index()[['NAME', 'AGE', 'W', 'OBP', 'CHG']]\n",
    "print \"\\nDescriptives of dataset variables\\n\"\n",
    "print batting.describe()"
   ]
  },
  {
   "cell_type": "code",
   "execution_count": 15,
   "metadata": {
    "collapsed": false,
    "scrolled": false
   },
   "outputs": [
    {
     "data": {
      "text/plain": [
       "<matplotlib.text.Text at 0x10abc7b10>"
      ]
     },
     "execution_count": 15,
     "metadata": {},
     "output_type": "execute_result"
    },
    {
     "data": {
      "image/png": "[encoded data removed]",
      "text/plain": [
       "<matplotlib.figure.Figure at 0x10da4cfd0>"
      ]
     },
     "metadata": {},
     "output_type": "display_data"
    },
    {
     "data": {
      "image/png": "[encoded data removed]",
      "text/plain": [
       "<matplotlib.figure.Figure at 0x10d9b5610>"
      ]
     },
     "metadata": {},
     "output_type": "display_data"
    }
   ],
   "source": [
    "# Exploratory plotting\n",
    "ax1 = batting.boxplot(\n",
    "    column='OBP',\n",
    "    by='AGE',\n",
    "    figsize=(15, 8)\n",
    ")\n",
    "\n",
    "ax1_1 = batting[['AGE', 'CHG']].dropna(0, 'any').groupby([\"AGE\"]).mean()\n",
    "ax1_1['COL'] = ax1_1['CHG'] > 0\n",
    "\n",
    "ax1_1['CHG'].plot(\n",
    "    kind='bar',\n",
    "    figsize=(15, 8),\n",
    "    color=ax1_1.COL.map({True: 'g', False: 'r'}),\n",
    "    ax=ax1\n",
    ")\n",
    "\n",
    "plt.title(\"Boxplot of OBP by Age and Change from Year to Year\")\n",
    "plt.xlabel('test')\n",
    "plt.suptitle(\"\")\n",
    "\n",
    "ax2 = batting[['AGE', 'NAME']].dropna(0, 'any').groupby([\"AGE\"]).count().plot(\n",
    "    kind='bar',\n",
    "    color='grey',\n",
    "    legend=False,\n",
    "    figsize=(15, 1),\n",
    "    position=0\n",
    ")\n",
    "\n",
    "batting[['AGE', 'W']].dropna(0, 'any').groupby([\"AGE\"]).mean().plot(\n",
    "    kind='bar',\n",
    "    color='black',\n",
    "    legend=False,\n",
    "    figsize=(15.5, 1),\n",
    "    position=1,\n",
    "    secondary_y=True,\n",
    "    ax=ax2\n",
    ")\n",
    "plt.title(\"Number of players (grey/left) || Mean observations per player (black/right)\")\n",
    "plt.suptitle(\"\")"
   ]
  },
  {
   "cell_type": "markdown",
   "metadata": {},
   "source": [
    "### Exploration\n",
    "> There is a lot of good information here. The discussion is based on the visualizations from above and numbers from below. The headline here really is that \n",
    "\n",
    ">> #### players peak at age 27\n",
    "\n",
    "> There is a very steady pattern of improvement until age 27 and a equally steady decline from there. There seems to be\n",
    "\n",
    ">> #### negative performance acceleration from nearly the beginning\n",
    "\n",
    "> of a player's career. Players start with high levels of improvement, taper off, decline marginally, and decline drastically. Although it would appear from OBP by age group that players peak after 27, I argue that it is because some weaker players who did not pan out by then often depart from the league, thus allowing the average to increase. This theory is supported by the fact that the total number of players begin to decline from age 27."
   ]
  },
  {
   "cell_type": "code",
   "execution_count": 16,
   "metadata": {
    "collapsed": false,
    "scrolled": true
   },
   "outputs": [
    {
     "name": "stdout",
     "output_type": "stream",
     "text": [
      "\n",
      "Descriptives of dataset variables\n",
      "\n",
      "          OBP             CHG                 W      \n",
      "         mean count      mean count        mean count\n",
      "AGE                                                  \n",
      "16   0.279503     1       NaN     0  161.000000     1\n",
      "17   0.287905     9 -0.057729     1  102.111111     9\n",
      "18   0.255808    30  0.007650     6  124.566667    30\n",
      "19   0.258668   124  0.014940    15  137.258065   124\n",
      "20   0.269567   378  0.007867    88  155.682540   378\n",
      "21   0.279868   886  0.017820   275  190.539503   886\n",
      "22   0.280519  1762  0.005306   710  215.103292  1762\n",
      "23   0.287112  2844  0.011108  1395  237.448664  2844\n",
      "24   0.290600  3873  0.005204  2299  246.521301  3873\n",
      "25   0.292240  4665  0.003852  3209  269.160772  4665\n",
      "26   0.294405  5226  0.003356  3984  272.840987  5226\n",
      "27   0.297015  5274  0.000871  4381  287.700986  5274\n",
      "28   0.299017  5049 -0.001031  4426  294.502674  5049\n",
      "29   0.300765  4623 -0.001038  4192  299.442137  4623\n",
      "30   0.302348  4123 -0.002332  3853  307.362600  4123\n",
      "31   0.305548  3615 -0.001846  3469  311.456708  3615\n",
      "32   0.305532  3069 -0.005419  2967  308.536331  3069\n",
      "33   0.305713  2575 -0.005402  2508  303.849709  2575\n",
      "34   0.306534  2101 -0.004562  2058  296.959543  2101\n",
      "35   0.304701  1620 -0.009529  1601  289.239506  1620\n",
      "36   0.306919  1211 -0.006630  1199  283.317919  1211\n",
      "37   0.307127   862 -0.010308   860  276.133411   862\n",
      "38   0.306828   597 -0.010192   594  256.842546   597\n",
      "39   0.306262   356 -0.012528   353  265.441011   356\n",
      "40   0.299934   234 -0.013722   231  259.256410   234\n",
      "41   0.291312   157 -0.013224   153  206.878981   157\n",
      "42   0.302007    90 -0.000838    89  194.633333    90\n",
      "43   0.300018    39 -0.001898    39  207.102564    39\n",
      "44   0.272451    20 -0.026875    20  203.900000    20\n",
      "45   0.253690    11 -0.014760    11  165.818182    11\n",
      "46   0.210842     7 -0.027499     6   91.571429     7\n",
      "47   0.291400     3  0.057811     3  116.333333     3\n",
      "48   0.329609     1 -0.018876     1  179.000000     1\n"
     ]
    }
   ],
   "source": [
    "print \"\\nDescriptives of dataset variables\\n\"\n",
    "print batting[['AGE', 'OBP', 'CHG', 'W']].groupby(\"AGE\").agg(['mean', 'count'])"
   ]
  },
  {
   "cell_type": "markdown",
   "metadata": {},
   "source": [
    "> Forecasting with and without career arc adjustments is compared. Based on sample size and data stability, the forecast method will attempt to predict next season performance for age groups 20 to 40. The two competing methods are:\n",
    "\n",
    ">> 1. Basic Forecast - Predict the next season OBP based on current season\n",
    ">> 2. Adjusted Forecast - Predict the next season OBP based on current season + expected change from career arc"
   ]
  },
  {
   "cell_type": "code",
   "execution_count": 17,
   "metadata": {
    "collapsed": false
   },
   "outputs": [],
   "source": [
    "chg = batting[['AGE', 'CHG']].dropna(0, 'any').groupby([\"AGE\"]).mean()\n",
    "\n",
    "# subset forecast to ages 20 to 40\n",
    "forecast = batting[['AGE', 'OBP']].loc[batting['AGE'].isin(range(19, 41))] # 19 because it'll be used to forecast 20\n",
    "\n",
    "# predictions\n",
    "forecast['BASIC'] = forecast['OBP'].shift(1)\n",
    "forecast['ADJ'] = forecast['BASIC'] + chg.loc[batting['AGE'], 'CHG'].reset_index()['CHG']\n",
    "\n",
    "# error = observed - predicted\n",
    "forecast['BASIC_ERR'] = forecast['OBP'] - forecast['BASIC']\n",
    "forecast['ADJ_ERR'] = forecast['OBP'] - forecast['ADJ']\n",
    "\n",
    "# drop NaN\n",
    "forecast = forecast.dropna(0, 'any')"
   ]
  },
  {
   "cell_type": "code",
   "execution_count": 18,
   "metadata": {
    "collapsed": false
   },
   "outputs": [
    {
     "name": "stdout",
     "output_type": "stream",
     "text": [
      "\n",
      "Error Descriptives of Basic and Career Arc Adjusted Methods\n",
      "\n",
      "          BASIC_ERR       ADJ_ERR\n",
      "count  55066.000000  55066.000000\n",
      "mean      -0.000003     -0.000171\n",
      "std        0.068673      0.068504\n",
      "min       -0.375000     -0.380204\n",
      "25%       -0.037108     -0.036834\n",
      "50%       -0.000704     -0.000188\n",
      "75%        0.036608      0.036504\n",
      "max        0.516129      0.498309\n"
     ]
    },
    {
     "data": {
      "text/plain": [
       "<matplotlib.axes._subplots.AxesSubplot at 0x10cbf1790>"
      ]
     },
     "execution_count": 18,
     "metadata": {},
     "output_type": "execute_result"
    },
    {
     "data": {
      "image/png": "[encoded data removed]",
      "text/plain": [
       "<matplotlib.figure.Figure at 0x10aac7350>"
      ]
     },
     "metadata": {},
     "output_type": "display_data"
    }
   ],
   "source": [
    "print \"\\nError Descriptives of Basic and Career Arc Adjusted Methods\\n\"\n",
    "print forecast[['BASIC_ERR', 'ADJ_ERR']].describe()\n",
    "\n",
    "forecast['BASIC_ERR'].plot(\n",
    "    kind='hist',\n",
    "    alpha=1,\n",
    "    legend=True\n",
    ")\n",
    "forecast['ADJ_ERR'].plot(\n",
    "    kind='hist',\n",
    "    alpha=0.5,\n",
    "    legend=True,\n",
    "    title=\"Error distributions of Basic and Career Arc Adjusted Methods\"\n",
    ")"
   ]
  },
  {
   "cell_type": "code",
   "execution_count": 19,
   "metadata": {
    "collapsed": false
   },
   "outputs": [
    {
     "name": "stdout",
     "output_type": "stream",
     "text": [
      "\n",
      "Root Mean Squared Error of Basic and Career Arc Adjusted Methods\n",
      "\n",
      "BASIC_ERR    0.068672\n",
      "ADJ_ERR      0.068503\n",
      "dtype: float64\n"
     ]
    }
   ],
   "source": [
    "print \"\\nRoot Mean Squared Error of Basic and Career Arc Adjusted Methods\\n\"\n",
    "print np.sqrt(np.mean(forecast[['BASIC_ERR', 'ADJ_ERR']] ** 2))"
   ]
  },
  {
   "cell_type": "code",
   "execution_count": 20,
   "metadata": {
    "collapsed": false
   },
   "outputs": [
    {
     "name": "stdout",
     "output_type": "stream",
     "text": [
      "\n",
      "Kruskal-Wallis test for difference in errors\n",
      "\n"
     ]
    },
    {
     "data": {
      "text/plain": [
       "KruskalResult(statistic=0.43115972852766704, pvalue=0.51142043517561608)"
      ]
     },
     "execution_count": 20,
     "metadata": {},
     "output_type": "execute_result"
    }
   ],
   "source": [
    "print \"\\nKruskal-Wallis test for difference in errors\\n\"\n",
    "sts.mstats.kruskalwallis(forecast['BASIC_ERR'], forecast['ADJ_ERR'])"
   ]
  },
  {
   "cell_type": "markdown",
   "metadata": {},
   "source": [
    "> A Kruskal-Wallis H test showed that there was not a statistically significant difference in error between the basic forecast and career arc adjusted forecast with χ2 = 0.4312, p = 0.5114."
   ]
  },
  {
   "cell_type": "markdown",
   "metadata": {},
   "source": [
    "### Conclusion\n",
    "> A consistent pattern of player age and change in performance was observed. The evidence points to a performance curve that increases and peaks at age 27 and decreases from there on. The curve has the appearance of an arc due to a decrease in performance velocity over time that is the consequence of negative performance acceleration.\n",
    "\n",
    "> However, the Kruskal-Wallis test demonstrate that the inclusion of the career arc adjustment does not significantly improve next period forecast performances. This is perhaps so given the oversimplified test design. I am still confident the career arc is a significant element in proper projection of future player performance if used properly. Therefore, a future study can examine alternative model designs that successfully incorporate its use that the current study had no success in doing.\n",
    "\n",
    "> Thanks for reading!"
   ]
  },
  {
   "cell_type": "markdown",
   "metadata": {},
   "source": [
    "#### source\n",
    "> http://stackoverflow.com/questions/17071871/select-rows-from-a-dataframe-based-on-values-in-a-column-in-pandas\n",
    "\n",
    "> http://stackoverflow.com/questions/23198053/how-do-you-shift-pandas-dataframe-with-a-multiindex\n",
    "\n",
    "> http://blog.th4t.net/get-rid-of-the-automatic-pandas-generated-boxplot-title.html\n",
    "\n",
    "> http://stackoverflow.com/questions/24183101/pandas-bar-plot-with-two-bars-and-two-y-axis\n",
    "\n",
    "> http://stackoverflow.com/questions/19384532/how-to-count-number-of-rows-in-a-group-in-pandas-group-by-object\n",
    "\n",
    "> http://stackoverflow.com/questions/6871201/plot-two-histograms-at-the-same-time-with-matplotlib"
   ]
  }
 ],
 "metadata": {
  "kernelspec": {
   "display_name": "Python 2",
   "language": "python",
   "name": "python2"
  },
  "language_info": {
   "codemirror_mode": {
    "name": "ipython",
    "version": 2
   },
   "file_extension": ".py",
   "mimetype": "text/x-python",
   "name": "python",
   "nbconvert_exporter": "python",
   "pygments_lexer": "ipython2",
   "version": "2.7.11"
  }
 },
 "nbformat": 4,
 "nbformat_minor": 0
}
