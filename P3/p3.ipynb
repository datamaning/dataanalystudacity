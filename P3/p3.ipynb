{
 "cells": [
  {
   "cell_type": "markdown",
   "metadata": {},
   "source": [
    "## Data Wrangling of Singapore Map Data\n",
    "### by: Darren Liu\n",
    "\n",
    "[Mapzen: Central Singapore, Singapore](https://mapzen.com/projects/search?query=Singapore%2C%20Central%20Singapore&endpoint=place&gid=gn%3Alocality%3A1880252&selectedLat=1.28967&selectedLng=103.85007&lng=103.74372&lat=1.37213&zoom=12)\n",
    "\n",
    "> I have chosen Singapore because it is well-known for its central planning and compact landmass. It would be interesting to see if and how Singapore map information differs from American cities. "
   ]
  },
  {
   "cell_type": "code",
   "execution_count": 1,
   "metadata": {
    "collapsed": true
   },
   "outputs": [],
   "source": [
    "from pymongo import MongoClient\n",
    "from pprint import pprint\n",
    "\n",
    "client = MongoClient(\"mongodb://localhost:27017\")\n",
    "db = client.openmap\n",
    "mr = db.mapdata_raw\n",
    "pc = db.postcode"
   ]
  },
  {
   "cell_type": "markdown",
   "metadata": {},
   "source": [
    "### 1. Problems to Solve\n",
    "\n",
    "> I admittingly lack understanding of map data and what is to expect from good node, way, or relation data points, compared to bad ones. But I do know what good addresses look like, or so I thought I did. After some light research on how addresses work in Singapore, I came across some facts that are further testaments of their central planning prowess. According to Wikipedia, every building in Singapore is given its unique postcode. This means any piece of address information that can be linked to its actual postcode has the potential to have perfect address information, granted there is a postcode database with that information. Lucky as always, there are. One you pay for, and one you work for, so I worked for it.\n",
    "\n",
    "> The nimble parser worked 2 full days to parse the poor site of its 124,285 unique postcodes and its perfect addresses. (There is actually 124,289 but I missed some and don't know what I missed). The quest for perfect address can begin."
   ]
  },
  {
   "cell_type": "code",
   "execution_count": 2,
   "metadata": {
    "collapsed": false
   },
   "outputs": [
    {
     "data": {
      "text/plain": [
       "{u'_id': ObjectId('56e0c1a994e1beeae6709e51'),\n",
       " u'building': u'Og Albert Complex',\n",
       " u'city': u'Singapore',\n",
       " u'full': u'Og Albert Complex, Albert Street, 60, Singapore, Albert, Bugis, Victoria Street, Rochor, Central',\n",
       " u'postcode': u'189969',\n",
       " u'region1': u'Central',\n",
       " u'region2': u'Bugis, Victoria Street, Rochor',\n",
       " u'region3': u'Singapore',\n",
       " u'street': u'Albert Street, 60'}"
      ]
     },
     "execution_count": 2,
     "metadata": {},
     "output_type": "execute_result"
    }
   ],
   "source": [
    "pc.find_one()"
   ]
  },
  {
   "cell_type": "markdown",
   "metadata": {},
   "source": [
    "> The raw data download in its entirety has a daunting 1,134,428 observations."
   ]
  },
  {
   "cell_type": "code",
   "execution_count": 3,
   "metadata": {
    "collapsed": false
   },
   "outputs": [
    {
     "data": {
      "text/plain": [
       "1134428"
      ]
     },
     "execution_count": 3,
     "metadata": {},
     "output_type": "execute_result"
    }
   ],
   "source": [
    "mr.find().count()"
   ]
  },
  {
   "cell_type": "markdown",
   "metadata": {},
   "source": [
    "> However, only 34,015 has any sort of address information"
   ]
  },
  {
   "cell_type": "code",
   "execution_count": 4,
   "metadata": {
    "collapsed": false
   },
   "outputs": [
    {
     "name": "stdout",
     "output_type": "stream",
     "text": [
      "34015\n"
     ]
    }
   ],
   "source": [
    "query = {'address': {'$exists': 1}}\n",
    "print mr.find(query).count()"
   ]
  },
  {
   "cell_type": "markdown",
   "metadata": {},
   "source": [
    "> Going further, it is surprising to find many of them are not even in Singapore, but in neighboring territories, such as Johor Bahru of Malaysia."
   ]
  },
  {
   "cell_type": "code",
   "execution_count": 5,
   "metadata": {
    "collapsed": false,
    "scrolled": true
   },
   "outputs": [
    {
     "name": "stdout",
     "output_type": "stream",
     "text": [
      "{u'_id': {u'city': u'Johor Bahru'}, u'count': 13781}\n",
      "{u'_id': {}, u'count': 8931}\n",
      "{u'_id': {u'city': u'Singapore', u'country': u'SG'}, u'count': 8200}\n",
      "{u'_id': {u'country': u'SG'}, u'count': 2124}\n",
      "{u'_id': {u'city': u'Singapore'}, u'count': 850}\n"
     ]
    }
   ],
   "source": [
    "# count of ways and nodes\n",
    "query = [\n",
    "    {'$match': {'address': {'$exists': 1}}},\n",
    "    {'$group': \n",
    "     {'_id':\n",
    "      {'city': '$address.city',\n",
    "       'country': '$address.country'},\n",
    "      'count': { '$sum': 1 }\n",
    "     }\n",
    "    },\n",
    "    {'$sort': {'count': -1}}\n",
    "]\n",
    "result_in = mr.aggregate(query)\n",
    "result = [x for x in result_in]\n",
    "for x in result[:5]:\n",
    "    pprint(x)"
   ]
  },
  {
   "cell_type": "markdown",
   "metadata": {},
   "source": [
    "> In order to be searchable by our method, a street or postcode is necessary. This leaves us the opportunity to shiny up 10,692 addresses."
   ]
  },
  {
   "cell_type": "code",
   "execution_count": 6,
   "metadata": {
    "collapsed": false
   },
   "outputs": [
    {
     "data": {
      "text/plain": [
       "10692"
      ]
     },
     "execution_count": 6,
     "metadata": {},
     "output_type": "execute_result"
    }
   ],
   "source": [
    "query = {\"$and\": [\n",
    "            {\"$or\": [\n",
    "                {'address.city': {'$exists': 1, '$eq':'Singapore'}},\n",
    "                {'address.country': {'$exists': 1, '$eq':'SG'}}\n",
    "            ]},\n",
    "            {'address': {'$exists': 1}},\n",
    "            {\"$or\": [\n",
    "                {'address.street': {'$exists': 1}},\n",
    "                {'address.postcode': {'$exists': 1}}\n",
    "            ]},\n",
    "        ]}\n",
    "dat_in_query = mr.find(query)\n",
    "dat_in = [x for x in dat_in_query]\n",
    "len(dat_in)"
   ]
  },
  {
   "cell_type": "markdown",
   "metadata": {},
   "source": [
    "### 2. Cleaning process\n",
    "> The proposed method is simple. The data to be cleaned should have either street address or postcode available, or both. A cleaner script will attempt to find the unique database address by associating the available information to it. For street address, a regular expression pattern of street and housenumber, if available, will attempt to match the full address from the database. For postcode, a simple postcode lookup will retrieve the unique address. There are several ways this can play out. With the 10,692 address available for cleaning, the exact outcomes are listed below:\n",
    "\n",
    "> - Both street and postcode available:\n",
    "\n",
    ">> both information matched and database result the same: __3411__\n",
    "\n",
    ">> both information matched but database result not the same: __597__\n",
    "\n",
    ">> only postcode information matched: __0__\n",
    "\n",
    ">> only street information matched: __0__\n",
    "\n",
    "> - Only postcode available and matched: __19__\n",
    "\n",
    "> - Only postcode available and matched: __0__\n",
    "\n",
    "> - Only street available and matched: __6447__\n",
    "\n",
    "> - Only street available and matched: __0__\n",
    "\n",
    "> - Exception: __218__\n",
    "\n",
    "> Aside from exceptions, which need to be investigated, all data points had matching information in the database. The next natural thing to be curious about are the 597 records that matched up with database but had conflicting results. After some digging in, these were some of the reasons I could find:\n",
    "\n",
    ">> In many cases the street names were ambiguous with no house number to narrow the street matching down to one unique result\n",
    "\n",
    ">> In many cases the street address include the housenumber, which can either have two housenumbers attached to the regex search string or be inconsistent with the database address format\n",
    "\n",
    ">> In some cases, words are just spelled wrong\n",
    "\n",
    ">> In some cases, the street does not appear anywhere in the postcode version of address, which can be a headache given it is uncertain which piece of information is the valid one"
   ]
  },
  {
   "cell_type": "markdown",
   "metadata": {},
   "source": [
    "### 3. Conclusion\n",
    "\n",
    "> Singapore's unique postcode system made our address cleaning strategy possible. All 10,692 search attempts had a corresponding database match, however, it did yield some inconsistencies that can be eliminated with more work. This project can be improved by fixing some of the problems found in section 2, as well as the program exception occurrences. The project can go further by potentially using xy coordinates to enhance incomplete street address information, resolve inconsistencies between street address and postcode search results, and spot potentially errorneous postcodes."
   ]
  },
  {
   "cell_type": "markdown",
   "metadata": {},
   "source": [
    "#### Source\n",
    "- https://en.wikipedia.org/wiki/Postal_codes_in_Singapore\n",
    "- http://sgp.postcodebase.com/"
   ]
  }
 ],
 "metadata": {
  "kernelspec": {
   "display_name": "Python 2",
   "language": "python",
   "name": "python2"
  },
  "language_info": {
   "codemirror_mode": {
    "name": "ipython",
    "version": 2
   },
   "file_extension": ".py",
   "mimetype": "text/x-python",
   "name": "python",
   "nbconvert_exporter": "python",
   "pygments_lexer": "ipython2",
   "version": "2.7.11"
  }
 },
 "nbformat": 4,
 "nbformat_minor": 0
}
