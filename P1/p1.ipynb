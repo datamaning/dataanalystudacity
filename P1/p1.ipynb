{
 "cells": [
  {
   "cell_type": "markdown",
   "metadata": {},
   "source": [
    "### Question 1\n",
    "#### What is our independent variable? What is our dependent variable?\n",
    "\n",
    "> The independent variable is a 2-level factor word/color congruency. A word that is consistent between its semantic meaning and color displayed is considered congruent, whereas one with inconsistent properties are considered incongruent. The variable can be simplified as a boolean with TRUE representing either congruent/incongruent, and FALSE the other.\n",
    "\n",
    "> The dependent variable is the time recordings in seconds."
   ]
  },
  {
   "cell_type": "markdown",
   "metadata": {},
   "source": [
    "## Question 2\n",
    "#### What is an appropriate set of hypotheses for this task? What kind of statistical test do you expect to perform? Justify your choices.\n",
    "> The set of hypotheses are as such:\n",
    "\n",
    "$$ H_{0}:\\mu_{c} = \\mu_{i}  $$\n",
    "$$ H_{1}:\\mu_{c} < \\mu_{i}  $$\n",
    "\n",
    "> The null hypothesis states that the population mean of congruent test results is equal to the population mean of incongruent test results. The alternate hypothesis states that the population mean of congruent test results is less than the population mean of incongruent results.\n",
    "\n",
    "> The paired t-test is chosen. It is paired because each observation of congruent and incongruent results is done by the same person and therefore not independent. The t-test, as opposed to say the z-test, is chosen because:\n",
    "- Normality and the use of the Gaussian distribution is assumed\n",
    "- Sample size is smaller than 30, the typical sample size required to use the z-table critical values\n",
    "- The population standard deviation is not available\n",
    "\n",
    "> A lower-tailed test is chosen because intuition tells us congruent results should be better than incongruent results since incongruent includes the element of color confusion. The alpha shall be 0.05 since it is the convention for hypothesis testing."
   ]
  },
  {
   "cell_type": "markdown",
   "metadata": {},
   "source": [
    "### Question 3\n",
    "#### Report some descriptive statistics regarding this dataset. Include at least one measure of central tendency and at least one measure of variability.\n",
    "> For the congruent test, the mean time was about 14.05 second with variance of 12.67 seconds.\n",
    "\n",
    "> For the incongruent test, the mean time was about 22.02 second with variance of 23.01 seconds."
   ]
  },
  {
   "cell_type": "code",
   "execution_count": 2,
   "metadata": {
    "collapsed": false
   },
   "outputs": [],
   "source": [
    "import csv\n",
    "import scipy.stats\n",
    "\n",
    "dat = []\n",
    "directory = '/users/home/google drive/education/datasets/dataanalystudacity/'\n",
    "with open(directory + 'p1/stroopdata.csv', 'rb') as csvfile:\n",
    "    dat_raw = csv.reader(csvfile)\n",
    "    next(dat_raw, None)\n",
    "    for row in dat_raw:\n",
    "        dat.append(row)\n",
    "        \n",
    "congruent = [float(x[0]) for x in dat]\n",
    "incongruent = [float(x[1]) for x in dat]"
   ]
  },
  {
   "cell_type": "code",
   "execution_count": 2,
   "metadata": {
    "collapsed": false
   },
   "outputs": [
    {
     "data": {
      "text/plain": [
       "DescribeResult(nobs=24, minmax=(8.6300000000000008, 22.327999999999999), mean=14.051124999999999, variance=12.669029070652174, skewness=0.3903776149050628, kurtosis=-0.4048936841311477)"
      ]
     },
     "execution_count": 2,
     "metadata": {},
     "output_type": "execute_result"
    }
   ],
   "source": [
    "scipy.stats.describe(congruent)"
   ]
  },
  {
   "cell_type": "code",
   "execution_count": 3,
   "metadata": {
    "collapsed": false
   },
   "outputs": [
    {
     "data": {
      "text/plain": [
       "DescribeResult(nobs=24, minmax=(15.686999999999999, 35.255000000000003), mean=22.015916666666669, variance=23.011757036231884, skewness=1.4491357281474821, kurtosis=1.9204728550911758)"
      ]
     },
     "execution_count": 3,
     "metadata": {},
     "output_type": "execute_result"
    }
   ],
   "source": [
    "scipy.stats.describe(incongruent)"
   ]
  },
  {
   "cell_type": "markdown",
   "metadata": {},
   "source": [
    "### Question 4\n",
    "#### Provide one or two visualizations that show the distribution of the sample data. Write one or two sentences noting what you observe about the plot or plots.\n",
    "> The first visual shows the effect on performance by the test subject itself. Performance between congruent and incongruent seem to be well correlated, meaning a test subject who tends to perform well does so for both congruent and incongruent tests. This demonstrates that there are other variables at play in determing performances.\n",
    "\n",
    "> The second visual is a comparison between congruent and incongruent test results. It shows a clear difference between the two. In fact, the lower bound of the incongruent results does not include the mean of the congruent results. Therefore, it seems highly likely that the congruent results are faster than incongruent results."
   ]
  },
  {
   "cell_type": "code",
   "execution_count": 4,
   "metadata": {
    "collapsed": false,
    "scrolled": false
   },
   "outputs": [
    {
     "data": {
      "text/plain": [
       "<matplotlib.axes._subplots.AxesSubplot at 0x11441df10>"
      ]
     },
     "execution_count": 4,
     "metadata": {},
     "output_type": "execute_result"
    },
    {
     "data": {
      "image/png": "[encoded data removed]",
      "text/plain": [
       "<matplotlib.figure.Figure at 0x114272250>"
      ]
     },
     "metadata": {},
     "output_type": "display_data"
    },
    {
     "data": {
      "image/png": "[encoded data removed]",
      "text/plain": [
       "<matplotlib.figure.Figure at 0x11441d6d0>"
      ]
     },
     "metadata": {},
     "output_type": "display_data"
    }
   ],
   "source": [
    "import warnings\n",
    "warnings.filterwarnings(\"ignore\")\n",
    "\n",
    "import matplotlib.pyplot as plt\n",
    "import numpy as np\n",
    "import pandas as pd\n",
    "import seaborn as sns\n",
    "\n",
    "%matplotlib inline\n",
    "\n",
    "plt.scatter(congruent, incongruent)\n",
    "plt.title('Performance by Test Subject')\n",
    "plt.xlabel('Congruent')\n",
    "plt.ylabel('Incongruent')\n",
    "\n",
    "df = pd.DataFrame({\n",
    "        'congruent': congruent,\n",
    "        'incongruent': incongruent\n",
    "    })\n",
    "\n",
    "df.plot(kind='box', title='Comparison Between Congruent and Incongruent Performance')\n"
   ]
  },
  {
   "cell_type": "markdown",
   "metadata": {},
   "source": [
    "## Question 5\n",
    "#### Now, perform the statistical test and report your results. What is your confidence level and your critical statistic value? Do you reject the null hypothesis or fail to reject it? Come to a conclusion in terms of the experiment task. Did the results match up with your expectations?\n",
    "> Given our critical value of 1.714 and a t-statistic of -8.021 and p-value < 0.0001. We reject the null hypothesis. The study shows that test subjects perform significantly faster on congruent tests than incongruent tests. This matches our expectations given our exploratory analysis in finding strong discrepancy between the means of the samples under circumstances of well behaved variances."
   ]
  },
  {
   "cell_type": "code",
   "execution_count": 5,
   "metadata": {
    "collapsed": false
   },
   "outputs": [
    {
     "name": "stdout",
     "output_type": "stream",
     "text": [
      "N = 24 t-critical = 1.714 t-statistic = -8.021 pvalue = 0.0001\n"
     ]
    }
   ],
   "source": [
    "from scipy import stats\n",
    "\n",
    "d = np.array(congruent) - np.array(incongruent)\n",
    "mean = d.mean()\n",
    "std = d.std(ddof=1)\n",
    "n = int(len(dat))\n",
    "crit = 1.714 # for df = 23, one-tailed, and confidence level of 95%\n",
    "\n",
    "tt = (mean-0) / (std / np.sqrt(n))  # t-statistic for mean\n",
    "pval = stats.t.sf(np.abs(tt), n-1)\n",
    "\n",
    "if np.round(pval, 4) == 0:\n",
    "    pval=0.0001\n",
    "\n",
    "print 'N = {} t-critical = {:2.3f} t-statistic = {:2.3f} pvalue = {:2.4f}'.format(n, crit, tt, pval)"
   ]
  },
  {
   "cell_type": "markdown",
   "metadata": {},
   "source": [
    "### Question 6 Optional\n",
    "#### What do you think is responsible for the effects observed? Can you think of an alternative or similar task that would result in a similar effect? Some research about the problem will be helpful for thinking about these two questions!\n",
    "> An excerpt from wikipedia on the stroop effect points us to the theory explaining our observation:\n",
    ">> In the study of interference theory, the most commonly used procedure has been similar to Stroop's second experiment, in which subjects were tested on naming colors of incompatible words and of control patches.\n",
    "\n",
    "> The wiki on interference theory then says:\n",
    ">> Interference theory is theory regarding human memory. Interference occurs in learning when there is an interaction between the new material and transfer effects of past learned behavior, memories or thoughts that have a negative influence in comprehending the new material. Bringing to memory old knowledge has the effect of impairing both the speed of learning and memory performance.\n",
    "\n",
    "> This is evidence that the underlying cause of the stroop effect is the conflicting information leading to a delay in learning. Therefore, a similar experiment where we might expect similar results is testing the conflicting information of numbers and the size of the numbers, asking test takers to match the numbers semantic meaning rather than its size."
   ]
  },
  {
   "cell_type": "markdown",
   "metadata": {},
   "source": [
    "#### sources\n",
    "> http://stackoverflow.com/questions/14257373/skip-the-headers-when-editing-a-csv-file-using-python\n",
    "\n",
    "> http://docs.scipy.org/doc/scipy-0.13.0/reference/generated/scipy.stats.describe.html\n",
    "\n",
    "> http://stackoverflow.com/questions/33792478/how-to-suppress-matplotlib-warning\n",
    "\n",
    "> http://pandas.pydata.org/pandas-docs/version/0.15.0/visualization.html\n",
    "\n",
    "> http://docs.scipy.org/doc/scipy/reference/tutorial/stats.html\n",
    "\n",
    "> https://people.richland.edu/james/lecture/m170/tbl-t.html\n",
    "\n",
    "> https://en.wikipedia.org/wiki/Stroop_effect\n",
    "\n",
    "> https://en.wikipedia.org/wiki/Interference_theory"
   ]
  }
 ],
 "metadata": {
  "kernelspec": {
   "display_name": "Python 2",
   "language": "python",
   "name": "python2"
  },
  "language_info": {
   "codemirror_mode": {
    "name": "ipython",
    "version": 2
   },
   "file_extension": ".py",
   "mimetype": "text/x-python",
   "name": "python",
   "nbconvert_exporter": "python",
   "pygments_lexer": "ipython2",
   "version": "2.7.11"
  }
 },
 "nbformat": 4,
 "nbformat_minor": 0
}
