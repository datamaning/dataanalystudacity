{
 "cells": [
  {
   "cell_type": "code",
   "execution_count": 83,
   "metadata": {
    "collapsed": false
   },
   "outputs": [
    {
     "data": {
      "text/plain": [
       "LinearRegression(copy_X=True, fit_intercept=True, n_jobs=1, normalize=False)"
      ]
     },
     "execution_count": 83,
     "metadata": {},
     "output_type": "execute_result"
    }
   ],
   "source": [
    "import random\n",
    "import numpy\n",
    "import matplotlib.pyplot as plt\n",
    "import pickle\n",
    "\n",
    "from outlier_cleaner import outlierCleaner\n",
    "from sklearn.linear_model import LinearRegression\n",
    "\n",
    "### load up some practice data with outliers in it\n",
    "ages = pickle.load( open(\"practice_outliers_ages.pkl\", \"r\") )\n",
    "net_worths = pickle.load( open(\"practice_outliers_net_worths.pkl\", \"r\") )\n",
    "\n",
    "\n",
    "\n",
    "### ages and net_worths need to be reshaped into 2D numpy arrays\n",
    "### second argument of reshape command is a tuple of integers: (n_rows, n_columns)\n",
    "### by convention, n_rows is the number of data points\n",
    "### and n_columns is the number of features\n",
    "ages       = numpy.reshape( numpy.array(ages), (len(ages), 1))\n",
    "net_worths = numpy.reshape( numpy.array(net_worths), (len(net_worths), 1))\n",
    "from sklearn.cross_validation import train_test_split\n",
    "ages_train, ages_test, net_worths_train, net_worths_test = train_test_split(ages, net_worths, test_size=0.1, random_state=42)\n",
    "\n",
    "### fill in a regression here!  Name the regression object reg so that\n",
    "### the plotting code below works, and you can see what your regression looks like\n",
    "\n",
    "\n",
    "reg = LinearRegression()\n",
    "reg.fit(ages_train, net_worths_train)"
   ]
  },
  {
   "cell_type": "code",
   "execution_count": 84,
   "metadata": {
    "collapsed": false,
    "scrolled": true
   },
   "outputs": [
    {
     "data": {
      "text/plain": [
       "90"
      ]
     },
     "execution_count": 84,
     "metadata": {},
     "output_type": "execute_result"
    }
   ],
   "source": [
    "predictions = reg.predict(ages_train)\n",
    "len(ages_train)"
   ]
  },
  {
   "cell_type": "code",
   "execution_count": 85,
   "metadata": {
    "collapsed": false
   },
   "outputs": [],
   "source": [
    "sq_errs = (predictions - net_worths_train) ** 2\n",
    "x = sq_errs < numpy.percentile(sq_errs, 90)\n",
    "cleaned_data = zip(ages_train[x], net_worths_train[x], sq_errs[x])"
   ]
  },
  {
   "cell_type": "code",
   "execution_count": 91,
   "metadata": {
    "collapsed": false
   },
   "outputs": [
    {
     "data": {
      "text/plain": [
       "numpy.ndarray"
      ]
     },
     "execution_count": 91,
     "metadata": {},
     "output_type": "execute_result"
    }
   ],
   "source": [
    "type(x)\n",
    "type(ages_train)"
   ]
  },
  {
   "cell_type": "code",
   "execution_count": null,
   "metadata": {
    "collapsed": true
   },
   "outputs": [],
   "source": []
  },
  {
   "cell_type": "code",
   "execution_count": 86,
   "metadata": {
    "collapsed": false
   },
   "outputs": [
    {
     "data": {
      "text/plain": [
       "array([[ 5.07793064]])"
      ]
     },
     "execution_count": 86,
     "metadata": {},
     "output_type": "execute_result"
    }
   ],
   "source": [
    "reg.coef_"
   ]
  },
  {
   "cell_type": "code",
   "execution_count": 88,
   "metadata": {
    "collapsed": false
   },
   "outputs": [
    {
     "data": {
      "text/plain": [
       "0.87826247036646732"
      ]
     },
     "execution_count": 88,
     "metadata": {},
     "output_type": "execute_result"
    }
   ],
   "source": [
    "reg.score(ages_test, net_worths_test)"
   ]
  },
  {
   "cell_type": "code",
   "execution_count": 64,
   "metadata": {
    "collapsed": false
   },
   "outputs": [
    {
     "data": {
      "text/plain": [
       "[(49,\n",
       "  21,\n",
       "  32,\n",
       "  30,\n",
       "  53,\n",
       "  51,\n",
       "  61,\n",
       "  23,\n",
       "  39,\n",
       "  21,\n",
       "  30,\n",
       "  43,\n",
       "  21,\n",
       "  29,\n",
       "  49,\n",
       "  45,\n",
       "  30,\n",
       "  47,\n",
       "  57,\n",
       "  20,\n",
       "  57,\n",
       "  52,\n",
       "  35,\n",
       "  27,\n",
       "  64,\n",
       "  35,\n",
       "  24,\n",
       "  24,\n",
       "  58,\n",
       "  47,\n",
       "  57,\n",
       "  53,\n",
       "  44,\n",
       "  64,\n",
       "  37,\n",
       "  45,\n",
       "  58,\n",
       "  48,\n",
       "  59,\n",
       "  46,\n",
       "  52,\n",
       "  22,\n",
       "  30,\n",
       "  33,\n",
       "  23,\n",
       "  30,\n",
       "  24,\n",
       "  32,\n",
       "  49,\n",
       "  36,\n",
       "  37,\n",
       "  29,\n",
       "  32,\n",
       "  63,\n",
       "  49,\n",
       "  48,\n",
       "  27,\n",
       "  53,\n",
       "  27,\n",
       "  37,\n",
       "  65,\n",
       "  49,\n",
       "  45,\n",
       "  51,\n",
       "  58,\n",
       "  55,\n",
       "  30,\n",
       "  21,\n",
       "  34,\n",
       "  32,\n",
       "  29,\n",
       "  60,\n",
       "  34,\n",
       "  50,\n",
       "  38,\n",
       "  62,\n",
       "  41,\n",
       "  32,\n",
       "  31,\n",
       "  45,\n",
       "  32,\n",
       "  46,\n",
       "  61,\n",
       "  38,\n",
       "  30,\n",
       "  65,\n",
       "  43,\n",
       "  24,\n",
       "  22,\n",
       "  25),\n",
       " (316.18428306022463,\n",
       "  128.4847139765763,\n",
       "  212.95377076201385,\n",
       "  217.96059712816052,\n",
       "  326.56693250553326,\n",
       "  314.06726086101639,\n",
       "  412.83425631014785,\n",
       "  159.09869458305818,\n",
       "  234.36051228130097,\n",
       "  142.1012008717193,\n",
       "  178.23164614375077,\n",
       "  259.43540492859483,\n",
       "  136.08924543132068,\n",
       "  142.98439510684403,\n",
       "  271.75164334973937,\n",
       "  270.00424941518054,\n",
       "  167.24337759331152,\n",
       "  300.0349466519055,\n",
       "  338.08951848957577,\n",
       "  96.753925973294173,\n",
       "  385.56297537843108,\n",
       "  320.48447399026929,\n",
       "  220.10056409375846,\n",
       "  140.25503627573087,\n",
       "  389.11234550949632,\n",
       "  220.96845179419734,\n",
       "  126.98012845155395,\n",
       "  157.51396036691344,\n",
       "  350.48722620162391,\n",
       "  287.91612500413447,\n",
       "  344.21586775541203,\n",
       "  368.29556369017877,\n",
       "  274.7300555052413,\n",
       "  378.84578142088196,\n",
       "  247.70089824206377,\n",
       "  256.83312700057957,\n",
       "  366.67727190009509,\n",
       "  260.8065975224045,\n",
       "  342.18627902203139,\n",
       "  291.43722471738249,\n",
       "  339.76933159990818,\n",
       "  140.9273656237994,\n",
       "  185.1870343522352,\n",
       "  200.22792608821422,\n",
       "  114.17956019265145,\n",
       "  173.10311583210583,\n",
       "  140.78722458080426,\n",
       "  221.14244452437831,\n",
       "  313.12236579136925,\n",
       "  189.73919689274533,\n",
       "  237.73167938789589,\n",
       "  173.54835439167368,\n",
       "  186.46155999388083,\n",
       "  405.98352577681737,\n",
       "  326.86999044991904,\n",
       "  318.62560238232396,\n",
       "  151.96564953554724,\n",
       "  325.06575248297571,\n",
       "  175.37526862807127,\n",
       "  250.76090254244718,\n",
       "  396.66651524309418,\n",
       "  302.53682046672367,\n",
       "  259.12330051987942,\n",
       "  294.82586751838659,\n",
       "  378.75051644788397,\n",
       "  370.87480057141647,\n",
       "  186.05979756839332,\n",
       "  151.32065795784047,\n",
       "  219.73272050095269,\n",
       "  187.09760490789751,\n",
       "  188.47791211016829,\n",
       "  374.28347921780096,\n",
       "  243.79287311628013,\n",
       "  260.1050979182051,\n",
       "  253.93805008750448,\n",
       "  389.24094136476344,\n",
       "  250.26985299068266,\n",
       "  201.83521553071006,\n",
       "  153.99862170798215,\n",
       "  276.85656224324975,\n",
       "  207.14225143023492,\n",
       "  317.0578808948303,\n",
       "  370.88459563452705,\n",
       "  221.33012794213624,\n",
       "  177.46485912830926,\n",
       "  424.5580423540415,\n",
       "  275.32502219319372,\n",
       "  139.40479592465923,\n",
       "  147.76534866226712,\n",
       "  133.88384977349668),\n",
       " (1526.2620126621357,\n",
       "  4.7323714120558096,\n",
       "  612.91248605582405,\n",
       "  1618.0581248954306,\n",
       "  813.82727182089343,\n",
       "  701.6768590680515,\n",
       "  5321.7305201865865,\n",
       "  323.18625376481953,\n",
       "  91.195239985077535,\n",
       "  130.89843646077233,\n",
       "  0.24615712210223401,\n",
       "  187.74802808389452,\n",
       "  29.475452749687481,\n",
       "  871.46051514504245,\n",
       "  28.785760084535948,\n",
       "  190.7096009006226,\n",
       "  110.08471451865204,\n",
       "  1114.1752977802239,\n",
       "  365.87461174415176,\n",
       "  822.28950309027459,\n",
       "  4435.7339613423819,\n",
       "  765.949807163581,\n",
       "  262.83110292470417,\n",
       "  474.74620419950679,\n",
       "  1124.6958319407927,\n",
       "  291.7248383592115,\n",
       "  375.26598146052902,\n",
       "  124.59133318770924,\n",
       "  691.424821760349,\n",
       "  452.00642977561512,\n",
       "  637.774535829515,\n",
       "  4935.9461721044718,\n",
       "  564.83081294544957,\n",
       "  541.48922323656768,\n",
       "  1112.3027608919174,\n",
       "  0.407863960896032,\n",
       "  1804.9755482078522,\n",
       "  122.75938340995957,\n",
       "  162.90469110373564,\n",
       "  900.7286239067904,\n",
       "  2205.3031960336634,\n",
       "  25.367858222436183,\n",
       "  55.525306021536927,\n",
       "  46.248514274595657,\n",
       "  725.85803656637313,\n",
       "  21.459019248278874,\n",
       "  30.965741365978303,\n",
       "  1085.4219935576898,\n",
       "  1296.3950354512424,\n",
       "  375.5804983567545,\n",
       "  546.71719615820405,\n",
       "  1.088786251484106,\n",
       "  3.0107155127804139,\n",
       "  3095.6164292498388,\n",
       "  2475.3720386561754,\n",
       "  2184.5641740530568,\n",
       "  101.56725718235194,\n",
       "  730.43051267607063,\n",
       "  177.73051569910422,\n",
       "  1325.7760381910978,\n",
       "  1285.9436234019477,\n",
       "  646.17339336722603,\n",
       "  8.5779619820663502,\n",
       "  52.530466699420366,\n",
       "  2976.6024631923042,\n",
       "  3890.5568731129124,\n",
       "  69.293865011685085,\n",
       "  426.85801822378511,\n",
       "  444.14811020816563,\n",
       "  1.2080129808491094,\n",
       "  255.13695030152562,\n",
       "  1570.5379842122481,\n",
       "  2037.1659075618718,\n",
       "  494.7234862524752,\n",
       "  1180.4554258244186,\n",
       "  1947.1284440077366,\n",
       "  224.93289962387936,\n",
       "  186.00906915909815,\n",
       "  839.11495068460295,\n",
       "  426.92144752347002,\n",
       "  358.9338679839197,\n",
       "  3095.0081523780987,\n",
       "  961.03294551711531,\n",
       "  3.0619199687302978,\n",
       "  0.073248594588330218,\n",
       "  4064.2643617366516,\n",
       "  875.67077523311275,\n",
       "  48.2624158874331,\n",
       "  141.00694516279151,\n",
       "  313.24258436821248)]"
      ]
     },
     "execution_count": 64,
     "metadata": {},
     "output_type": "execute_result"
    }
   ],
   "source": [
    "zip(*cleaned_data)"
   ]
  },
  {
   "cell_type": "code",
   "execution_count": 68,
   "metadata": {
    "collapsed": true
   },
   "outputs": [],
   "source": [
    "from outlier_cleaner import outlierCleaner"
   ]
  },
  {
   "cell_type": "code",
   "execution_count": 70,
   "metadata": {
    "collapsed": false
   },
   "outputs": [
    {
     "data": {
      "text/plain": [
       "[]"
      ]
     },
     "execution_count": 70,
     "metadata": {},
     "output_type": "execute_result"
    }
   ],
   "source": [
    "outlierCleaner(predictions, ages_train, net_worths_train)"
   ]
  },
  {
   "cell_type": "code",
   "execution_count": null,
   "metadata": {
    "collapsed": true
   },
   "outputs": [],
   "source": []
  }
 ],
 "metadata": {
  "kernelspec": {
   "display_name": "Python 2",
   "language": "python",
   "name": "python2"
  },
  "language_info": {
   "codemirror_mode": {
    "name": "ipython",
    "version": 2
   },
   "file_extension": ".py",
   "mimetype": "text/x-python",
   "name": "python",
   "nbconvert_exporter": "python",
   "pygments_lexer": "ipython2",
   "version": "2.7.11"
  }
 },
 "nbformat": 4,
 "nbformat_minor": 0
}
